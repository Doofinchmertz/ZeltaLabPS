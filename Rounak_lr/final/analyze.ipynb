{
 "cells": [
  {
   "cell_type": "code",
   "execution_count": 8,
   "metadata": {},
   "outputs": [],
   "source": [
    "import pandas as pd\n",
    "import numpy as np\n",
    "from Utils import *\n",
    "import warnings\n",
    "from sklearn.linear_model import LinearRegression\n",
    "\n",
    "warnings.filterwarnings(\"ignore\")\n",
    "\n",
    "\n",
    "time_frame = \"1h\"\n",
    "k = 2\n",
    "df_train = get_data(time_frame, \"train\")\n",
    "df_val = get_data(time_frame, \"val\")"
   ]
  },
  {
   "cell_type": "code",
   "execution_count": 30,
   "metadata": {},
   "outputs": [
    {
     "name": "stdout",
     "output_type": "stream",
     "text": [
      "0.7799247176913425 0.066\n",
      "0.7801113360323887 0.0663\n",
      "0.7818877551020408 0.0666\n",
      "0.7815234173957797 0.0669\n",
      "0.7817851582771147 0.0672\n",
      "0.7814136125654451 0.0675\n",
      "0.7815059445178335 0.0678\n",
      "0.7840149692595563 0.0681\n",
      "0.7838640043173233 0.0684\n",
      "0.7832244008714597 0.0687\n",
      "0.7826564215148188 0.069\n",
      "0.7822714681440444 0.0693\n",
      "0.7820369334079463 0.0696\n",
      "0.7806324110671937 0.0699\n",
      "0.7821133580176588 0.0702\n",
      "0.783108302212008 0.0705\n",
      "0.7834634287366291 0.0708\n",
      "0.7846512985118179 0.0711\n",
      "0.7845336481700118 0.0714\n",
      "0.7836953287711991 0.0717\n",
      "0.7842784278427842 0.072\n",
      "0.7849560206248104 0.0723\n",
      "0.7853419196565471 0.0726\n",
      "0.7854050711193569 0.0729\n",
      "0.7846441947565543 0.0732\n",
      "0.7849020846493999 0.0735\n",
      "0.7843700159489633 0.0738\n",
      "0.7821174951581665 0.0741\n",
      "0.7823395242750082 0.0744\n",
      "0.7825657894736842 0.0747\n"
     ]
    }
   ],
   "source": [
    "# Create the linear regression model\n",
    "model = LinearRegression()\n",
    "\n",
    "\n",
    "# Define the independent variables\n",
    "X_train = df_train.drop(f'Next_{k}_Days_Return', axis=1)\n",
    "X_train = X_train.drop('open', axis=1)\n",
    "X_train = X_train.drop('close', axis=1)\n",
    "X_val = df_val.drop(f'Next_{k}_Days_Return', axis=1)\n",
    "X_val = X_val.drop('open', axis=1)\n",
    "X_val = X_val.drop('close', axis=1)\n",
    "\n",
    "\n",
    "# Define the dependent variable\n",
    "y_train = df_train[f'Next_{k}_Days_Return']\n",
    "y_val = df_val[f'Next_{k}_Days_Return']\n",
    "\n",
    "\n",
    "df_train['flag'] = 0\n",
    "df_val['flag'] = 0\n",
    "# Fit the linear regression model on the training data\n",
    "\n",
    "\n",
    "model.fit(X_train, y_train)\n",
    "\n",
    "# Predict the dependent variable on X_train\n",
    "y_pred = model.predict(X_train)\n",
    "\n",
    "for r in range(660,750,3):\n",
    "    q = np.quantile(np.abs(y_pred), r/1000)\n",
    "\n",
    "    # Count the number of times the model predicted the correct direction\n",
    "    df_train['pred'] = y_pred\n",
    "    print(len(df_train[(df_train['pred'] > q) & (df_train[f'Next_{k}_Days_Return'] > 0)]) / len(df_train[(df_train['pred'] > q)]), r/10000)"
   ]
  }
 ],
 "metadata": {
  "kernelspec": {
   "display_name": "Python 3",
   "language": "python",
   "name": "python3"
  },
  "language_info": {
   "codemirror_mode": {
    "name": "ipython",
    "version": 3
   },
   "file_extension": ".py",
   "mimetype": "text/x-python",
   "name": "python",
   "nbconvert_exporter": "python",
   "pygments_lexer": "ipython3",
   "version": "3.10.12"
  }
 },
 "nbformat": 4,
 "nbformat_minor": 2
}
