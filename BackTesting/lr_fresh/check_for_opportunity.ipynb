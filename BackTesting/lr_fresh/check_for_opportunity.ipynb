{
 "cells": [
  {
   "cell_type": "code",
   "execution_count": 1,
   "metadata": {},
   "outputs": [],
   "source": [
    "import pandas as pd"
   ]
  },
  {
   "cell_type": "code",
   "execution_count": 2,
   "metadata": {},
   "outputs": [
    {
     "data": {
      "text/html": [
       "<div>\n",
       "<style scoped>\n",
       "    .dataframe tbody tr th:only-of-type {\n",
       "        vertical-align: middle;\n",
       "    }\n",
       "\n",
       "    .dataframe tbody tr th {\n",
       "        vertical-align: top;\n",
       "    }\n",
       "\n",
       "    .dataframe thead th {\n",
       "        text-align: right;\n",
       "    }\n",
       "</style>\n",
       "<table border=\"1\" class=\"dataframe\">\n",
       "  <thead>\n",
       "    <tr style=\"text-align: right;\">\n",
       "      <th></th>\n",
       "      <th>datetime</th>\n",
       "      <th>open</th>\n",
       "      <th>high</th>\n",
       "      <th>low</th>\n",
       "      <th>close</th>\n",
       "      <th>volume</th>\n",
       "    </tr>\n",
       "  </thead>\n",
       "  <tbody>\n",
       "    <tr>\n",
       "      <th>19</th>\n",
       "      <td>2018-01-01 06:27:00</td>\n",
       "      <td>13528.98</td>\n",
       "      <td>13574.05</td>\n",
       "      <td>13452.56</td>\n",
       "      <td>13529.01</td>\n",
       "      <td>30.930862</td>\n",
       "    </tr>\n",
       "    <tr>\n",
       "      <th>20</th>\n",
       "      <td>2018-01-01 06:30:00</td>\n",
       "      <td>13528.99</td>\n",
       "      <td>13571.74</td>\n",
       "      <td>13481.82</td>\n",
       "      <td>13530.98</td>\n",
       "      <td>9.865947</td>\n",
       "    </tr>\n",
       "    <tr>\n",
       "      <th>21</th>\n",
       "      <td>2018-01-01 06:33:00</td>\n",
       "      <td>13530.98</td>\n",
       "      <td>13530.98</td>\n",
       "      <td>13481.82</td>\n",
       "      <td>13510.85</td>\n",
       "      <td>17.731324</td>\n",
       "    </tr>\n",
       "    <tr>\n",
       "      <th>22</th>\n",
       "      <td>2018-01-01 06:36:00</td>\n",
       "      <td>13520.76</td>\n",
       "      <td>13520.76</td>\n",
       "      <td>13453.00</td>\n",
       "      <td>13453.00</td>\n",
       "      <td>9.125183</td>\n",
       "    </tr>\n",
       "    <tr>\n",
       "      <th>23</th>\n",
       "      <td>2018-01-01 06:39:00</td>\n",
       "      <td>13460.00</td>\n",
       "      <td>13479.00</td>\n",
       "      <td>13402.28</td>\n",
       "      <td>13469.99</td>\n",
       "      <td>24.721129</td>\n",
       "    </tr>\n",
       "  </tbody>\n",
       "</table>\n",
       "</div>"
      ],
      "text/plain": [
       "               datetime      open      high       low     close     volume\n",
       "19  2018-01-01 06:27:00  13528.98  13574.05  13452.56  13529.01  30.930862\n",
       "20  2018-01-01 06:30:00  13528.99  13571.74  13481.82  13530.98   9.865947\n",
       "21  2018-01-01 06:33:00  13530.98  13530.98  13481.82  13510.85  17.731324\n",
       "22  2018-01-01 06:36:00  13520.76  13520.76  13453.00  13453.00   9.125183\n",
       "23  2018-01-01 06:39:00  13460.00  13479.00  13402.28  13469.99  24.721129"
      ]
     },
     "execution_count": 2,
     "metadata": {},
     "output_type": "execute_result"
    }
   ],
   "source": [
    "df = pd.read_csv(\"../data/btcusdt_3m_train.csv\")\n",
    "df = df[19:]\n",
    "df.head()"
   ]
  },
  {
   "cell_type": "code",
   "execution_count": 3,
   "metadata": {},
   "outputs": [],
   "source": [
    "fall_dict = {}\n",
    "rise_dict = {}\n",
    "for i in range(0,len(df),480):\n",
    "    first_close = df.iloc[i]['close']\n",
    "    fall_lst = []\n",
    "    rise_lst = []\n",
    "    for j in range(i+1,min(i+480, len(df))):\n",
    "        if df.iloc[j]['close'] < first_close:\n",
    "            fall_lst.append((df.iloc[j]['close'] - first_close)/first_close)\n",
    "        elif df.iloc[j]['close'] > first_close:\n",
    "            rise_lst.append((df.iloc[j]['close'] - first_close)/first_close)\n",
    "    fall_dict[i] = fall_lst\n",
    "    rise_dict[i] = rise_lst"
   ]
  },
  {
   "cell_type": "code",
   "execution_count": 4,
   "metadata": {},
   "outputs": [
    {
     "name": "stdout",
     "output_type": "stream",
     "text": [
      "932\n",
      "932\n"
     ]
    }
   ],
   "source": [
    "print(len(fall_dict))\n",
    "print(len(rise_dict))"
   ]
  },
  {
   "cell_type": "code",
   "execution_count": 6,
   "metadata": {},
   "outputs": [
    {
     "name": "stdout",
     "output_type": "stream",
     "text": [
      "1_per fall:  747\n",
      "1_per rise:  748\n"
     ]
    }
   ],
   "source": [
    "count_1_per_fall = 0\n",
    "for key, value_list in fall_dict.items():\n",
    "    if any(value < -0.005 for value in value_list):\n",
    "        count_1_per_fall += 1\n",
    "print(\"1_per fall: \", count_1_per_fall)\n",
    "count_1_per_rise = 0\n",
    "for key, value_list in rise_dict.items():\n",
    "    if any(value > 0.005 for value in value_list):\n",
    "        count_1_per_rise += 1\n",
    "print(\"1_per rise: \", count_1_per_rise)"
   ]
  },
  {
   "cell_type": "code",
   "execution_count": null,
   "metadata": {},
   "outputs": [],
   "source": []
  }
 ],
 "metadata": {
  "kernelspec": {
   "display_name": "Python 3",
   "language": "python",
   "name": "python3"
  },
  "language_info": {
   "codemirror_mode": {
    "name": "ipython",
    "version": 3
   },
   "file_extension": ".py",
   "mimetype": "text/x-python",
   "name": "python",
   "nbconvert_exporter": "python",
   "pygments_lexer": "ipython3",
   "version": "3.11.6"
  }
 },
 "nbformat": 4,
 "nbformat_minor": 2
}
