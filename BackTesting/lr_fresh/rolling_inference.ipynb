{
 "cells": [
  {
   "cell_type": "code",
   "execution_count": 1,
   "metadata": {},
   "outputs": [],
   "source": [
    "%matplotlib inline\n",
    "\n",
    "import pandas as pd\n",
    "\n",
    "from statsmodels.api import OLS, add_constant, graphics\n",
    "from statsmodels.graphics.tsaplots import plot_acf\n",
    "from scipy.stats import norm\n",
    "\n",
    "import seaborn as sns\n",
    "import matplotlib.pyplot as plt\n",
    "from sklearn.linear_model import LinearRegression, Ridge, Lasso\n",
    "\n",
    "import numpy as np"
   ]
  },
  {
   "cell_type": "code",
   "execution_count": 2,
   "metadata": {},
   "outputs": [],
   "source": [
    "df = pd.read_csv('data/btc_1h_train.csv')\n",
    "df.drop(['open', 'high', 'low', 'close'], axis=1, inplace=True)"
   ]
  },
  {
   "cell_type": "code",
   "execution_count": 3,
   "metadata": {},
   "outputs": [],
   "source": [
    "y = df.filter(like = 'target')\n",
    "X = df.drop(y.columns, axis=1)\n",
    "X = X.drop('datetime', axis=1)\n",
    "from sklearn.preprocessing import StandardScaler\n",
    "\n",
    "scaler = StandardScaler()\n",
    "X_normalized = scaler.fit_transform(X)\n",
    "X = pd.DataFrame(X_normalized, columns=X.columns)\n",
    "y = pd.DataFrame(y, columns=y.columns)"
   ]
  },
  {
   "cell_type": "code",
   "execution_count": 4,
   "metadata": {},
   "outputs": [
    {
     "name": "stdout",
     "output_type": "stream",
     "text": [
      "<class 'pandas.core.frame.DataFrame'>\n",
      "RangeIndex: 22164 entries, 0 to 22163\n",
      "Data columns (total 40 columns):\n",
      " #   Column           Non-Null Count  Dtype  \n",
      "---  ------           --------------  -----  \n",
      " 0   volume           22164 non-null  float64\n",
      " 1   close_vol        22164 non-null  float64\n",
      " 2   RSI              22164 non-null  float64\n",
      " 3   exp_RSI          22164 non-null  float64\n",
      " 4   bb_high          22164 non-null  float64\n",
      " 5   bb_low           22164 non-null  float64\n",
      " 6   atr              22164 non-null  float64\n",
      " 7   macd             22164 non-null  float64\n",
      " 8   signal           22164 non-null  float64\n",
      " 9   macd_signal      22164 non-null  float64\n",
      " 10  OBV              22164 non-null  float64\n",
      " 11  EMA              22164 non-null  float64\n",
      " 12  EMA_Slope        22164 non-null  float64\n",
      " 13  vwap             22164 non-null  float64\n",
      " 14  return_1d        22164 non-null  float64\n",
      " 15  return_4d        22164 non-null  float64\n",
      " 16  return_12d       22164 non-null  float64\n",
      " 17  return_24d       22164 non-null  float64\n",
      " 18  return_48d       22164 non-null  float64\n",
      " 19  return_168d      22164 non-null  float64\n",
      " 20  return_1d_lag1   22164 non-null  float64\n",
      " 21  return_4d_lag1   22164 non-null  float64\n",
      " 22  return_12d_lag1  22164 non-null  float64\n",
      " 23  return_24d_lag1  22164 non-null  float64\n",
      " 24  return_1d_lag2   22164 non-null  float64\n",
      " 25  return_4d_lag2   22164 non-null  float64\n",
      " 26  return_12d_lag2  22164 non-null  float64\n",
      " 27  return_24d_lag2  22164 non-null  float64\n",
      " 28  return_1d_lag3   22164 non-null  float64\n",
      " 29  return_4d_lag3   22164 non-null  float64\n",
      " 30  return_12d_lag3  22164 non-null  float64\n",
      " 31  return_24d_lag3  22164 non-null  float64\n",
      " 32  return_1d_lag4   22164 non-null  float64\n",
      " 33  return_4d_lag4   22164 non-null  float64\n",
      " 34  return_12d_lag4  22164 non-null  float64\n",
      " 35  return_24d_lag4  22164 non-null  float64\n",
      " 36  return_1d_lag5   22164 non-null  float64\n",
      " 37  return_4d_lag5   22164 non-null  float64\n",
      " 38  return_12d_lag5  22164 non-null  float64\n",
      " 39  return_24d_lag5  22164 non-null  float64\n",
      "dtypes: float64(40)\n",
      "memory usage: 6.8 MB\n"
     ]
    }
   ],
   "source": [
    "X.info(show_counts=True)"
   ]
  },
  {
   "cell_type": "code",
   "execution_count": 5,
   "metadata": {},
   "outputs": [],
   "source": [
    "model = Ridge()\n",
    "look_back = 96\n",
    "pred_window = 24\n",
    "target_k = 4\n",
    "y_pred = []\n",
    "y_actual = []\n",
    "for i in range(look_back, len(X) - pred_window, pred_window):\n",
    "    model.fit(X[i-look_back:i-target_k], y[i-look_back:i-target_k][f'target_{target_k}d'])\n",
    "    y_pred = y_pred + model.predict(X[i:i+pred_window]).tolist()\n",
    "    y_actual = y_actual + y[i:i+pred_window][f'target_{target_k}d'].tolist()"
   ]
  },
  {
   "cell_type": "code",
   "execution_count": 8,
   "metadata": {},
   "outputs": [
    {
     "name": "stdout",
     "output_type": "stream",
     "text": [
      "Percentage of times y_pred was greater than 1.5 or less than -1.5: 68.85654697134567%\n",
      "Percentage of times y_actual was greater than 1.5 or less than -1.5: 44.164853101196954%\n",
      "Percentage of times both y_actual and y_pred were greater than 1.5 or less than -1.5: 17.047515415306492%\n"
     ]
    }
   ],
   "source": [
    "y_pred = np.array(y_pred)\n",
    "y_actual = np.array(y_actual)\n",
    "count_greater = ((y_actual > 1.5) & (y_pred > 1.5)).sum()\n",
    "count_less = ((y_actual < -1.5) & (y_pred < -1.5)).sum()\n",
    "total_samples = len(y_actual)\n",
    "\n",
    "percentage_greater = (count_greater / total_samples) * 100\n",
    "percentage_less = (count_less / total_samples) * 100\n",
    "\n",
    "count_pred_greater = (y_pred > 1.5).sum()\n",
    "count_pred_less = (y_pred < -1.5).sum()\n",
    "percentage_pred_greater = (count_pred_greater / total_samples) * 100\n",
    "percentage_pred_less = (count_pred_less / total_samples) * 100\n",
    "\n",
    "count_actual_greater = (y_actual > 1.5).sum()\n",
    "count_actual_less = (y_actual < -1.5).sum()\n",
    "percentage_actual_greater = (count_actual_greater / total_samples) * 100\n",
    "percentage_actual_less = (count_actual_less / total_samples) * 100\n",
    "\n",
    "print(f\"Percentage of times y_pred was greater than 1.5 or less than -1.5: {percentage_pred_greater + percentage_pred_less}%\")\n",
    "print(f\"Percentage of times y_actual was greater than 1.5 or less than -1.5: {percentage_actual_greater + percentage_actual_less}%\")\n",
    "print(f\"Percentage of times both y_actual and y_pred were greater than 1.5 or less than -1.5: {percentage_greater + percentage_less}%\")\n",
    "\n"
   ]
  },
  {
   "cell_type": "code",
   "execution_count": 7,
   "metadata": {},
   "outputs": [
    {
     "data": {
      "image/png": "[encoded data removed]",
      "text/plain": [
       "<Figure size 640x480 with 1 Axes>"
      ]
     },
     "metadata": {},
     "output_type": "display_data"
    }
   ],
   "source": [
    "plt.hist(y_pred, bins=200, alpha=0.5, label='y_pred')\n",
    "plt.hist(y_actual, bins=200, alpha=0.5, label='y_actual')\n",
    "plt.xlabel('Value')\n",
    "plt.ylabel('Frequency')\n",
    "plt.title('Histogram Distribution of y_pred and y_actual')\n",
    "plt.legend()\n",
    "plt.show()"
   ]
  },
  {
   "cell_type": "code",
   "execution_count": null,
   "metadata": {},
   "outputs": [],
   "source": []
  }
 ],
 "metadata": {
  "kernelspec": {
   "display_name": "Python 3",
   "language": "python",
   "name": "python3"
  },
  "language_info": {
   "codemirror_mode": {
    "name": "ipython",
    "version": 3
   },
   "file_extension": ".py",
   "mimetype": "text/x-python",
   "name": "python",
   "nbconvert_exporter": "python",
   "pygments_lexer": "ipython3",
   "version": "3.11.6"
  }
 },
 "nbformat": 4,
 "nbformat_minor": 2
}
