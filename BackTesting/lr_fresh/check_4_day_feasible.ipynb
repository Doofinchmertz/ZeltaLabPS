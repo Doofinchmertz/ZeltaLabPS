{
 "cells": [
  {
   "cell_type": "code",
   "execution_count": 5,
   "metadata": {},
   "outputs": [],
   "source": [
    "import pandas as pd\n",
    "import numpy as np"
   ]
  },
  {
   "cell_type": "code",
   "execution_count": 6,
   "metadata": {},
   "outputs": [],
   "source": [
    "df = pd.read_csv('data/btc_1h_train.csv')"
   ]
  },
  {
   "cell_type": "code",
   "execution_count": 7,
   "metadata": {},
   "outputs": [],
   "source": [
    "df['indicator'] = np.where(df['target_4d'] > 1.5, 1, np.where(df['target_4d'] < -1.5, -1, 0))"
   ]
  },
  {
   "cell_type": "code",
   "execution_count": null,
   "metadata": {},
   "outputs": [],
   "source": [
    "tot = 0\n",
    "data = df\n",
    "for index, _ in data.iterrows():\n",
    "    data.at[index, 'signal'] = 0\n",
    "    if data.at[index, 'indicator'] == 1:\n",
    "        if tot == 0 or tot == -1:\n",
    "            # enter long position/exit short position\n",
    "            tot += 1\n",
    "            data.at[index, 'signal'] = 1\n",
    "    elif data.at[index, 'indicator'] == -1:\n",
    "        if tot == 0 or tot == 1:\n",
    "            # enter short position/exit long position\n",
    "            tot -= 1\n",
    "            data.at[index, 'signal'] = -1\n",
    "data.to_csv('../src/logs/btc_1h_check_4d_feasible.csv', index=False)"
   ]
  }
 ],
 "metadata": {
  "kernelspec": {
   "display_name": "Python 3",
   "language": "python",
   "name": "python3"
  },
  "language_info": {
   "codemirror_mode": {
    "name": "ipython",
    "version": 3
   },
   "file_extension": ".py",
   "mimetype": "text/x-python",
   "name": "python",
   "nbconvert_exporter": "python",
   "pygments_lexer": "ipython3",
   "version": "3.11.6"
  }
 },
 "nbformat": 4,
 "nbformat_minor": 2
}
