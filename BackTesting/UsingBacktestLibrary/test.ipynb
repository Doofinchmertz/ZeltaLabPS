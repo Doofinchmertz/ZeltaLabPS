{
 "cells": [
  {
   "cell_type": "code",
   "execution_count": 3,
   "id": "9bcc977f",
   "metadata": {},
   "outputs": [],
   "source": [
    "import yfinance as yf\n",
    "import pandas as pd\n",
    "import backtesting as bt\n",
    "from backtesting import Strategy, Backtest\n",
    "from backtesting.lib import crossover\n",
    "import pandas as pd"
   ]
  },
  {
   "cell_type": "code",
   "execution_count": 5,
   "id": "ed9f92ac",
   "metadata": {},
   "outputs": [],
   "source": [
    "def get_data(ticker:str='AAPL',from_date:str='2020-01-01',to_date:str='2022-11-30',interval:str='1d') -> pd.DataFrame:\n",
    "    yf_ticker = yf.Ticker(ticker)\n",
    "    return yf_ticker.history(start=from_date,end=to_date,interval=interval)\n",
    "\n",
    "def MovingAverage(closes:pd.Series, n:int) -> pd.Series:\n",
    "    return pd.Series(closes).rolling(n).mean()"
   ]
  },
  {
   "cell_type": "code",
   "execution_count": 6,
   "id": "1001b16f",
   "metadata": {},
   "outputs": [],
   "source": [
    "class SmaCross(Strategy):\n",
    "    sma_fast = 12\n",
    "    sma_slow = 24\n",
    "    \n",
    "    def init(self):\n",
    "        self.sma1 = self.I(MovingAverage, self.data.Close, self.sma_fast)\n",
    "        self.sma2 = self.I(MovingAverage, self.data.Close, self.sma_slow)\n",
    "\n",
    "    def next(self):\n",
    "        if not self.position and crossover(self.sma1, self.sma2):\n",
    "            self.buy()\n",
    "        elif self.position and crossover(self.sma2, self.sma1):\n",
    "            self.position.close()"
   ]
  },
  {
   "cell_type": "code",
   "execution_count": 7,
   "id": "f8637bcc",
   "metadata": {},
   "outputs": [],
   "source": [
    "data = get_data(ticker='AAPL',from_date='2020-01-01',to_date='2022-11-30')"
   ]
  },
  {
   "cell_type": "code",
   "execution_count": 9,
   "id": "a334a2b5",
   "metadata": {},
   "outputs": [],
   "source": [
    "bt = Backtest(data, SmaCross, cash=10_000, commission=0,exclusive_orders=True)"
   ]
  },
  {
   "cell_type": "code",
   "execution_count": 10,
   "id": "7738fe24",
   "metadata": {},
   "outputs": [],
   "source": [
    "stats = bt.run()"
   ]
  },
  {
   "cell_type": "code",
   "execution_count": 11,
   "id": "db2c02af",
   "metadata": {},
   "outputs": [
    {
     "name": "stdout",
     "output_type": "stream",
     "text": [
      "Start                     2020-01-02 00:00...\n",
      "End                       2022-11-29 00:00...\n",
      "Duration                   1062 days 00:00:00\n",
      "Exposure Time [%]                   59.536785\n",
      "Equity Final [$]                 19386.314034\n",
      "Equity Peak [$]                  22092.086729\n",
      "Return [%]                           93.86314\n",
      "Buy & Hold Return [%]               91.907399\n",
      "Return (Ann.) [%]                   25.517445\n",
      "Volatility (Ann.) [%]               30.254074\n",
      "Sharpe Ratio                         0.843438\n",
      "Sortino Ratio                        1.655825\n",
      "Calmar Ratio                         0.994593\n",
      "Max. Drawdown [%]                  -25.656168\n",
      "Avg. Drawdown [%]                   -4.218404\n",
      "Max. Drawdown Duration      456 days 00:00:00\n",
      "Avg. Drawdown Duration       45 days 00:00:00\n",
      "# Trades                                   15\n",
      "Win Rate [%]                        53.333333\n",
      "Best Trade [%]                      64.310489\n",
      "Worst Trade [%]                     -9.168091\n",
      "Avg. Trade [%]                       4.523997\n",
      "Max. Trade Duration         157 days 00:00:00\n",
      "Avg. Trade Duration          41 days 00:00:00\n",
      "Profit Factor                        3.593193\n",
      "Expectancy [%]                       5.651767\n",
      "SQN                                  1.180718\n",
      "_strategy                            SmaCross\n",
      "_equity_curve                             ...\n",
      "_trades                       Size  EntryB...\n",
      "dtype: object\n"
     ]
    }
   ],
   "source": [
    "print(stats)"
   ]
  },
  {
   "cell_type": "code",
   "execution_count": 12,
   "id": "28327eef",
   "metadata": {},
   "outputs": [
    {
     "name": "stdout",
     "output_type": "stream",
     "text": [
      "    Size  EntryBar  ExitBar  EntryPrice   ExitPrice          PnL  ReturnPct  \\\n",
      "0    152        69      179   65.590444  107.771979  6411.593349   0.643105   \n",
      "1    144       195      211  113.233260  107.172804  -872.705639  -0.053522   \n",
      "2    133       223      264  116.705132  126.593749  1315.185971   0.084732   \n",
      "3    119       268      285  141.293806  128.339862 -1541.519345  -0.091681   \n",
      "4    129       312      314  118.357646  121.855857   451.269171   0.029556   \n",
      "5    127       317      340  123.994190  127.738572   475.536607   0.030198   \n",
      "6    126       365      406  128.261720  144.518032  2048.295336   0.126743   \n",
      "7    124       408      435  146.841168  144.972777  -231.680444  -0.012724   \n",
      "8    122       455      515  147.108081  169.795914  2767.915630   0.154226   \n",
      "9    120       532      543  172.619277  161.636031 -1317.989450  -0.063627   \n",
      "10   114       563      579  170.666474  167.286261  -385.344327  -0.019806   \n",
      "11   137       615      619  139.259260  131.118938 -1115.224098  -0.058454   \n",
      "12   124       634      673  144.610054  158.807895  1760.532307   0.098180   \n",
      "13   134       712      725  147.326006  148.496450   156.839447   0.007945   \n",
      "14   134       731      733  147.679921  143.677007  -536.390479  -0.027105   \n",
      "\n",
      "                   EntryTime                  ExitTime          Duration  \n",
      "0  2020-04-13 00:00:00-04:00 2020-09-17 00:00:00-04:00 157 days 00:00:00  \n",
      "1  2020-10-09 00:00:00-04:00 2020-11-02 00:00:00-05:00  24 days 01:00:00  \n",
      "2  2020-11-18 00:00:00-05:00 2021-01-20 00:00:00-05:00  63 days 00:00:00  \n",
      "3  2021-01-26 00:00:00-05:00 2021-02-19 00:00:00-05:00  24 days 00:00:00  \n",
      "4  2021-03-30 00:00:00-04:00 2021-04-01 00:00:00-04:00   2 days 00:00:00  \n",
      "5  2021-04-07 00:00:00-04:00 2021-05-10 00:00:00-04:00  33 days 00:00:00  \n",
      "6  2021-06-15 00:00:00-04:00 2021-08-12 00:00:00-04:00  58 days 00:00:00  \n",
      "7  2021-08-16 00:00:00-04:00 2021-09-23 00:00:00-04:00  38 days 00:00:00  \n",
      "8  2021-10-21 00:00:00-04:00 2022-01-18 00:00:00-05:00  89 days 01:00:00  \n",
      "9  2022-02-10 00:00:00-05:00 2022-02-28 00:00:00-05:00  18 days 00:00:00  \n",
      "10 2022-03-28 00:00:00-04:00 2022-04-20 00:00:00-04:00  23 days 00:00:00  \n",
      "11 2022-06-10 00:00:00-04:00 2022-06-16 00:00:00-04:00   6 days 00:00:00  \n",
      "12 2022-07-11 00:00:00-04:00 2022-09-02 00:00:00-04:00  53 days 00:00:00  \n",
      "13 2022-10-28 00:00:00-04:00 2022-11-16 00:00:00-05:00  19 days 01:00:00  \n",
      "14 2022-11-25 00:00:00-05:00 2022-11-29 00:00:00-05:00   4 days 00:00:00  \n"
     ]
    }
   ],
   "source": [
    "print(stats._trades)"
   ]
  },
  {
   "cell_type": "code",
   "execution_count": null,
   "id": "3603978a",
   "metadata": {},
   "outputs": [],
   "source": []
  }
 ],
 "metadata": {
  "kernelspec": {
   "display_name": "Python 3 (ipykernel)",
   "language": "python",
   "name": "python3"
  },
  "language_info": {
   "codemirror_mode": {
    "name": "ipython",
    "version": 3
   },
   "file_extension": ".py",
   "mimetype": "text/x-python",
   "name": "python",
   "nbconvert_exporter": "python",
   "pygments_lexer": "ipython3",
   "version": "3.11.4"
  }
 },
 "nbformat": 4,
 "nbformat_minor": 5
}
