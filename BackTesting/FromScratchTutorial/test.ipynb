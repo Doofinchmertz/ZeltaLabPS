{
 "cells": [
  {
   "cell_type": "code",
   "execution_count": 1,
   "id": "8f0fe771",
   "metadata": {},
   "outputs": [],
   "source": [
    "import pandas as pd\n",
    "from tqdm import tqdm\n",
    "import yfinance as yf"
   ]
  },
  {
   "cell_type": "code",
   "execution_count": 2,
   "id": "5d3cce01",
   "metadata": {},
   "outputs": [],
   "source": [
    "class Engine():\n",
    "    \"\"\"The engine is the main object that will be used to run our backtest.\n",
    "    \"\"\"\n",
    "    def __init__(self, initial_cash = 100000):\n",
    "        self.strategy = None\n",
    "        self.cash = initial_cash\n",
    "        self.data = None\n",
    "        self.current_idx = None\n",
    "        self.initial_cash = initial_cash\n",
    "    \n",
    "    def add_data(self, data:pd.DataFrame):\n",
    "        # Add OHLC Data to The Engine\n",
    "        self.data = data\n",
    "    \n",
    "    def add_strategy(self, strategy):\n",
    "        # Add a strategy to the engine\n",
    "        self.strategy = strategy\n",
    "        \n",
    "    def run(self):\n",
    "        # We need to preprocess a few things before running the backtest\n",
    "        self.strategy.data = self.data\n",
    "        \n",
    "        for idx in tqdm(self.data[\"Date\"]):\n",
    "            self.current_idx = idx\n",
    "            self.strategy.current_idx = self.current_idx\n",
    "            # fill orders from previous period\n",
    "            self._fill_orders()\n",
    "            \n",
    "            # Run the strategy on the current bar\n",
    "            self.strategy.give_new_orders()\n",
    "        \n",
    "        return self._get_stats()\n",
    "\n",
    "    def _fill_orders(self):\n",
    "        \"\"\"this method fills buy and sell orders, creating new trade objects and adjusting the strategy's cash balance.\n",
    "        Conditions for filling an order:\n",
    "        - If we're buying, our cash balance has to be large enough to cover the order.\n",
    "        - If we are selling, we have to have enough shares to cover the order.\n",
    "        \"\"\"\n",
    "        \n",
    "        for order in self.strategy.orders:\n",
    "            can_fill = False\n",
    "            \n",
    "            if order.side == 'buy' and self.cash >= self.data[data['Date']==self.current_idx]['Open'].values[0] * order.size:\n",
    "                can_fill = True \n",
    "            elif order.side == 'sell' and self.strategy.position_size >= order.size:\n",
    "                can_fill = True\n",
    "            \n",
    "            if can_fill:\n",
    "                t = Trade(\n",
    "                side = order.side,\n",
    "                price = self.data[self.data['Date'] == self.current_idx]['Open'].values[0],\n",
    "                size = order.size,\n",
    "                _type = order.type,\n",
    "                idx = self.current_idx)\n",
    "                \n",
    "                self.strategy.trades.append(t)\n",
    "                self.cash -= t.price * t.size\n",
    "                \n",
    "        self.strategy.orders = []\n",
    "    \n",
    "    def _get_stats(self):\n",
    "        metrics = {}\n",
    "        total_return = 100*((self.data[self.data['Date'] == self.current_idx]['Close'].values[0]*self.strategy.position_size + self.cash)/self.initial_cash - 1)\n",
    "        metrics['total_return'] = total_return\n",
    "        return metrics\n",
    "    \n",
    "    "
   ]
  },
  {
   "cell_type": "code",
   "execution_count": 3,
   "id": "0e4687c4",
   "metadata": {},
   "outputs": [],
   "source": [
    "class Strategy():\n",
    "    \"\"\"This base class will handle the execution logic of our trading strategies\n",
    "    \"\"\"\n",
    "    def __init__(self):\n",
    "        self.current_idx = None\n",
    "        self.data = None\n",
    "        self.orders = []\n",
    "        self.trades = []\n",
    "        \n",
    "    def buy(self,size=1):\n",
    "        self.orders.append(\n",
    "            Order(\n",
    "                side = 'buy',\n",
    "                size = size,\n",
    "                idx = self.current_idx\n",
    "            ))\n",
    "    \n",
    "    def sell(self,size=1):\n",
    "        self.orders.append(\n",
    "            Order(\n",
    "                side = 'sell',\n",
    "                size = -size,\n",
    "                idx = self.current_idx\n",
    "            ))\n",
    "    \n",
    "        \n",
    "    @property\n",
    "    def position_size(self):\n",
    "        return sum([t.size for t in self.trades])\n",
    "        \n",
    "    def give_new_orders(self):\n",
    "        \"\"\"This method will be overriden by our strategies.\n",
    "        \"\"\"\n",
    "        pass"
   ]
  },
  {
   "cell_type": "code",
   "execution_count": 4,
   "id": "7b5df9f3",
   "metadata": {},
   "outputs": [],
   "source": [
    "class Trade():\n",
    "    \"\"\"Trade objects are created when an order is filled.\n",
    "    \"\"\"\n",
    "    def __init__(self,side,size,price,_type,idx):\n",
    "        self.side = side\n",
    "        self.price = price\n",
    "        self.size = size\n",
    "        self.type = _type\n",
    "        self.idx = idx\n",
    "        \n",
    "    def __repr__(self):\n",
    "        return f'<Trade: {self.idx} {self.size}@{self.price}>'"
   ]
  },
  {
   "cell_type": "code",
   "execution_count": 5,
   "id": "64912be7",
   "metadata": {},
   "outputs": [],
   "source": [
    "class Order():\n",
    "    \"\"\"When buying or selling, we first create an order object. If the order is filled, we create a trade object.\n",
    "    \"\"\"\n",
    "    def __init__(self, size, side, idx):\n",
    "        self.side = side\n",
    "        self.size = size\n",
    "        self.type = 'market'\n",
    "        self.idx = idx"
   ]
  },
  {
   "cell_type": "code",
   "execution_count": 6,
   "id": "c1d30d04",
   "metadata": {},
   "outputs": [],
   "source": [
    "class BuyAndSellSwitch(Strategy):\n",
    "    def give_new_orders(self):\n",
    "        if self.position_size == 0:\n",
    "            self.buy(size = 1)\n",
    "        else:\n",
    "            self.sell(size = 1)"
   ]
  },
  {
   "cell_type": "code",
   "execution_count": 7,
   "id": "6481eca4",
   "metadata": {},
   "outputs": [
    {
     "name": "stderr",
     "output_type": "stream",
     "text": [
      "100%|███████████████████████████████████████████████████████████████████████████| 2538/2538 [00:00<00:00, 3975.66it/s]"
     ]
    },
    {
     "name": "stdout",
     "output_type": "stream",
     "text": [
      "{'total_return': -15.671660000000355}\n"
     ]
    },
    {
     "name": "stderr",
     "output_type": "stream",
     "text": [
      "\n"
     ]
    }
   ],
   "source": [
    "data = pd.read_csv(\"../reversed_file.csv\")\n",
    "e = Engine()\n",
    "e.add_data(data)\n",
    "e.add_strategy(BuyAndSellSwitch())\n",
    "metrics = e.run()\n",
    "print(metrics)"
   ]
  },
  {
   "cell_type": "code",
   "execution_count": null,
   "id": "ce9c6f61",
   "metadata": {},
   "outputs": [],
   "source": []
  }
 ],
 "metadata": {
  "kernelspec": {
   "display_name": "Python 3 (ipykernel)",
   "language": "python",
   "name": "python3"
  },
  "language_info": {
   "codemirror_mode": {
    "name": "ipython",
    "version": 3
   },
   "file_extension": ".py",
   "mimetype": "text/x-python",
   "name": "python",
   "nbconvert_exporter": "python",
   "pygments_lexer": "ipython3",
   "version": "3.11.4"
  }
 },
 "nbformat": 4,
 "nbformat_minor": 5
}
