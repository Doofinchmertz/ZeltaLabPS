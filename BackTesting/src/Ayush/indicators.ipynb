{
 "cells": [
  {
   "cell_type": "code",
   "execution_count": 34,
   "metadata": {},
   "outputs": [],
   "source": [
    "import pandas as pd\n",
    "import numpy as np\n",
    "import matplotlib.pyplot as plt\n",
    "import talib\n",
    "import warnings\n",
    "from sklearn.linear_model import LinearRegression\n",
    "from sklearn import metrics\n",
    "warnings.filterwarnings('ignore')"
   ]
  },
  {
   "cell_type": "code",
   "execution_count": 35,
   "metadata": {},
   "outputs": [
    {
     "data": {
      "text/html": [
       "<style>.container { width:100% !important; }</style>"
      ],
      "text/plain": [
       "<IPython.core.display.HTML object>"
      ]
     },
     "metadata": {},
     "output_type": "display_data"
    }
   ],
   "source": [
    "from IPython.display import display, HTML\n",
    "display(HTML(\"<style>.container { width:100% !important; }</style>\"))\n",
    "import pandas as pd\n",
    "pd.set_option('display.max_rows', 50000)\n",
    "pd.set_option('display.max_columns', 50000)\n",
    "pd.set_option('display.width', 100000)"
   ]
  },
  {
   "cell_type": "code",
   "execution_count": 36,
   "metadata": {},
   "outputs": [],
   "source": [
    "df = pd.read_csv(r\"C:\\Users\\ayush\\Desktop\\IITB\\ZeltaLabPS\\BackTesting\\data\\data\\btcusdt_1h_train.csv\")\n",
    "df2 = pd.read_csv(r\"C:\\Users\\ayush\\Desktop\\IITB\\ZeltaLabPS\\BackTesting\\dataset\\test\\btcusdt_1h_test.csv\")\n",
    "df3 = pd.read_csv(r\"C:\\Users\\ayush\\Desktop\\IITB\\ZeltaLabPS\\BackTesting\\src\\Ayush\\data.csv\")\n"
   ]
  },
  {
   "cell_type": "code",
   "execution_count": 37,
   "metadata": {},
   "outputs": [],
   "source": [
    "dfk = df3.copy()\n",
    "dfk.rename(columns={'date': 'datetime'}, inplace=True)\n",
    "dfk = dfk[['open', 'high', 'low', 'close', 'datetime']]\n",
    "df2k = df2[['open', 'high', 'low', 'close', 'datetime']]\n",
    "\n",
    "dfk['datetime'] = pd.to_datetime(dfk['datetime'], format='%Y-%m-%d %H:%M:%S')\n",
    "df2k['datetime'] = pd.to_datetime(df2['datetime'], format='%Y-%m-%d %H:%M:%S')\n",
    "\n",
    "df_merged = pd.concat([df2k[['datetime', 'open', 'high', 'low', 'close']], dfk[['datetime', 'open', 'high', 'low', 'close']]])\n"
   ]
  },
  {
   "cell_type": "code",
   "execution_count": 38,
   "metadata": {},
   "outputs": [],
   "source": [
    "df_merged = df_merged.dropna()\n",
    "df_merged = df_merged.reset_index(drop=True)"
   ]
  },
  {
   "cell_type": "code",
   "execution_count": 39,
   "metadata": {},
   "outputs": [
    {
     "data": {
      "text/plain": [
       "(20284, 5)"
      ]
     },
     "execution_count": 39,
     "metadata": {},
     "output_type": "execute_result"
    }
   ],
   "source": [
    "df_merged.shape"
   ]
  },
  {
   "cell_type": "code",
   "execution_count": 40,
   "metadata": {},
   "outputs": [
    {
     "data": {
      "text/html": [
       "<div>\n",
       "<style scoped>\n",
       "    .dataframe tbody tr th:only-of-type {\n",
       "        vertical-align: middle;\n",
       "    }\n",
       "\n",
       "    .dataframe tbody tr th {\n",
       "        vertical-align: top;\n",
       "    }\n",
       "\n",
       "    .dataframe thead th {\n",
       "        text-align: right;\n",
       "    }\n",
       "</style>\n",
       "<table border=\"1\" class=\"dataframe\">\n",
       "  <thead>\n",
       "    <tr style=\"text-align: right;\">\n",
       "      <th></th>\n",
       "      <th>datetime</th>\n",
       "      <th>open</th>\n",
       "      <th>high</th>\n",
       "      <th>low</th>\n",
       "      <th>close</th>\n",
       "      <th>date</th>\n",
       "    </tr>\n",
       "  </thead>\n",
       "  <tbody>\n",
       "    <tr>\n",
       "      <th>14879</th>\n",
       "      <td>NaN</td>\n",
       "      <td>41248.0</td>\n",
       "      <td>41248.0</td>\n",
       "      <td>41069.0</td>\n",
       "      <td>41212.0</td>\n",
       "      <td>2023-12-12 20:00:00</td>\n",
       "    </tr>\n",
       "    <tr>\n",
       "      <th>14880</th>\n",
       "      <td>NaN</td>\n",
       "      <td>41227.0</td>\n",
       "      <td>41327.0</td>\n",
       "      <td>41038.0</td>\n",
       "      <td>41094.0</td>\n",
       "      <td>2023-12-12 21:00:00</td>\n",
       "    </tr>\n",
       "    <tr>\n",
       "      <th>14881</th>\n",
       "      <td>NaN</td>\n",
       "      <td>41110.0</td>\n",
       "      <td>41249.0</td>\n",
       "      <td>41097.0</td>\n",
       "      <td>41247.0</td>\n",
       "      <td>2023-12-12 22:00:00</td>\n",
       "    </tr>\n",
       "    <tr>\n",
       "      <th>14882</th>\n",
       "      <td>NaN</td>\n",
       "      <td>41256.0</td>\n",
       "      <td>41532.0</td>\n",
       "      <td>41256.0</td>\n",
       "      <td>41498.0</td>\n",
       "      <td>2023-12-12 23:00:00</td>\n",
       "    </tr>\n",
       "    <tr>\n",
       "      <th>14883</th>\n",
       "      <td>NaN</td>\n",
       "      <td>41491.0</td>\n",
       "      <td>41491.0</td>\n",
       "      <td>41406.0</td>\n",
       "      <td>41427.0</td>\n",
       "      <td>2023-12-13 0:00:00</td>\n",
       "    </tr>\n",
       "  </tbody>\n",
       "</table>\n",
       "</div>"
      ],
      "text/plain": [
       "      datetime     open     high      low    close                 date\n",
       "14879      NaN  41248.0  41248.0  41069.0  41212.0  2023-12-12 20:00:00\n",
       "14880      NaN  41227.0  41327.0  41038.0  41094.0  2023-12-12 21:00:00\n",
       "14881      NaN  41110.0  41249.0  41097.0  41247.0  2023-12-12 22:00:00\n",
       "14882      NaN  41256.0  41532.0  41256.0  41498.0  2023-12-12 23:00:00\n",
       "14883      NaN  41491.0  41491.0  41406.0  41427.0   2023-12-13 0:00:00"
      ]
     },
     "execution_count": 40,
     "metadata": {},
     "output_type": "execute_result"
    }
   ],
   "source": [
    "df_combined = pd.concat([df2[['datetime', 'open', 'high', 'low', 'close']], df3[['date', 'open', 'high', 'low', 'close']]])\n",
    "# df_combined = df_combined.reset_index(drop=True)\n",
    "# df_combined = df_combined.dropna()\n",
    "df_combined.head()\n",
    "df_combined.tail()\n",
    "# df_combined.shape"
   ]
  },
  {
   "cell_type": "code",
   "execution_count": 41,
   "metadata": {},
   "outputs": [
    {
     "data": {
      "text/plain": [
       "[<matplotlib.lines.Line2D at 0x1cc573aa6e0>]"
      ]
     },
     "execution_count": 41,
     "metadata": {},
     "output_type": "execute_result"
    },
    {
     "data": {
      "image/png": "[encoded data removed]",
      "text/plain": [
       "<Figure size 640x480 with 1 Axes>"
      ]
     },
     "metadata": {},
     "output_type": "display_data"
    }
   ],
   "source": [
    "plt.plot(df3['close'])"
   ]
  },
  {
   "cell_type": "code",
   "execution_count": 42,
   "metadata": {},
   "outputs": [],
   "source": [
    "def stochastic_fast(df, k_period=14, d_period=3):\n",
    "    \"\"\"\n",
    "    Calculate Stochastic Fast K and D values.\n",
    "\n",
    "    Parameters:\n",
    "    - df: DataFrame with 'High', 'Low', and 'Close' columns.\n",
    "    - k_period: The period for %K calculation.\n",
    "    - d_period: The period for %D calculation.\n",
    "\n",
    "    Returns:\n",
    "    - DataFrame with 'StochF_K' and 'StochF_D' columns.\n",
    "    \"\"\"\n",
    "\n",
    "    # Calculate %K\n",
    "    df['Lowest_Low'] = df['low'].rolling(window=k_period).min()\n",
    "    df['Highest_High'] = df['high'].rolling(window=k_period).max()\n",
    "    df['StochF_K'] = 100 * ((df['close'] - df['Lowest_Low']) / (df['Highest_High'] - df['Lowest_Low']))\n",
    "\n",
    "    # Calculate %D\n",
    "    df['StochF_D'] = df['StochF_K'].rolling(window=d_period).mean()\n",
    "\n",
    "    # Drop temporary columns\n",
    "    df.drop(['Lowest_Low', 'Highest_High'], axis=1, inplace=True)\n",
    "\n",
    "    return df\n",
    "\n",
    "# Example usage:\n",
    "# Assuming you have a DataFrame 'df' with columns 'High', 'Low', and 'Close'\n",
    "df = stochastic_fast(df)\n"
   ]
  },
  {
   "cell_type": "code",
   "execution_count": 43,
   "metadata": {},
   "outputs": [],
   "source": [
    "def print_buckets(df, alphas, rets = ['ret_10', 'ret_30', 'ret_60', 'ret_300', 'tick_10'], aggfunc = ['mean', 'median', 'count'], buckets = 10):\n",
    "# def print_buckets(df, alphas, rets = ['ret_10', 'ret_30', 'iv_10'], aggfunc = ['mean', 'median', 'count']):\n",
    "# def print_buckets(df, alphas, rets = ['tick_10', 'tick_30', 'tick_60', 'tick_300'], aggfunc = ['mean', 'median', 'count']):\n",
    "# def print_buckets(df, alphas, rets = ['ret_60', 'ret_300', 'iv_60'], aggfunc = ['mean', 'median', 'count']):\n",
    "    for alpha in alphas:\n",
    "        msg = df.pivot_table(index = pd.qcut(df[alpha],buckets,duplicates='drop'), values=rets, aggfunc=aggfunc)\n",
    "        print(msg)\n",
    "\n",
    "def print_corrs(df, alphas, rets = ['ret_10', 'ret_30', 'ret_60', 'ret_300']):\n",
    "# def print_corrs(df, alphas, rets = ['ret_10', 'ret_30', 'iv_10']):\n",
    "# def print_corrs(df, alphas, rets = ['tick_10', 'tick_30', 'tick_60', 'tick_300']):\n",
    "# def print_corrs(df, alphas, rets = ['ret_60', 'ret_300', 'iv_60']):\n",
    "    msg = \"                                      \"\n",
    "    for ret in rets:\n",
    "        msg += f\"{ret:>8s}\"\n",
    "    print(msg)\n",
    "    for alpha in alphas:\n",
    "        msg = f\"{alpha:30s} corr -> \"\n",
    "        for ret in rets:\n",
    "            msg += f\"{df[alpha].corr(df[ret])*100:7.2f} \"\n",
    "        print(msg)\n",
    "    print()"
   ]
  },
  {
   "cell_type": "code",
   "execution_count": 44,
   "metadata": {},
   "outputs": [],
   "source": [
    "def ret(df):\n",
    "    df['change_5'] = df['close'].rolling(window=5).mean().pct_change() * 1e4\n",
    "\n",
    "    df['ret_5'] = df['close'].shift(-5)\n",
    "    df['ret_1'] = df['close'].shift(-1)\n",
    "    df['ret_10'] = df['close'].shift(-10)\n",
    "    df['ret_30'] = df['close'].shift(-30)\n",
    "\n",
    "    df['ret_5'] = (df['ret_5'] - df['close']) / df['close'] * 1e4\n",
    "    df['ret_1'] = (df['ret_1'] - df['close']) / df['close'] * 1e4\n",
    "    df['ret_10'] = (df['ret_10'] - df['close']) / df['close'] * 1e4\n",
    "    df['ret_30'] = (df['ret_30'] - df['close']) / df['close'] * 1e4\n",
    "\n",
    "    df.head(10)\n",
    "    df = df.dropna()\n",
    "    df = df.reset_index(drop=True)\n",
    "    return df\n",
    "\n",
    "df = ret(df)\n",
    "df2 = ret(df2)\n",
    "df3 = ret(df3)\n",
    "df_merged = ret(df_merged)"
   ]
  },
  {
   "cell_type": "code",
   "execution_count": 45,
   "metadata": {},
   "outputs": [
    {
     "name": "stdout",
     "output_type": "stream",
     "text": [
      "      close      ret_1\n",
      "0  46406.83   0.000000\n",
      "1  46406.83  34.663001\n",
      "2  46567.69  -2.117348\n",
      "3  46557.83  11.961468\n",
      "4  46613.52   0.000000\n",
      "5  46613.52   0.000000\n",
      "6  46613.52   0.000000\n",
      "7  46613.52  -5.105815\n",
      "8  46589.72  11.976891\n",
      "9  46645.52  34.481339\n"
     ]
    }
   ],
   "source": [
    "print(df3[['close', 'ret_1']].head(10))"
   ]
  },
  {
   "cell_type": "code",
   "execution_count": 46,
   "metadata": {},
   "outputs": [
    {
     "name": "stdout",
     "output_type": "stream",
     "text": [
      "                                         ret_5   ret_1  ret_10  ret_30\n",
      "StochF_K                       corr ->    0.77   -1.34    3.27   -0.03 \n",
      "StochF_D                       corr ->    1.96   -0.26    4.62    0.44 \n",
      "\n",
      "                      mean                                     median                                  count                    \n",
      "                     ret_1     ret_10     ret_30     ret_5      ret_1     ret_10     ret_30      ret_5 ret_1 ret_10 ret_30 ret_5\n",
      "StochF_K                                                                                                                        \n",
      "(-0.001, 18.191]  6.453929  -5.747664  18.697713  2.923199  12.422021   8.038901  38.819398  16.273526  2232   2232   2232  2232\n",
      "(18.191, 27.094] -2.632393 -24.282961  -7.923011 -8.604649   3.662598   6.720811  24.540521   9.145676  2231   2231   2231  2231\n",
      "(27.094, 36.089]  0.141137  -3.726877   5.607595 -4.993966   2.712988   5.880569  18.049781   4.663959  2231   2231   2231  2231\n",
      "(36.089, 44.826] -0.384553   2.739526   6.062225  1.652306   2.065284  10.225591  18.438276   6.541392  2231   2231   2231  2231\n",
      "(44.826, 53.402] -0.425912   0.880239   6.149706  3.562261   0.777721   5.585270   7.369646   6.893850  2231   2231   2231  2231\n",
      "(53.402, 61.998] -1.177004   4.639085   0.615138  2.163900   0.489129   0.272628   0.742160   1.133863  2231   2231   2231  2231\n",
      "(61.998, 70.073]  1.402857   9.837858   8.922999  4.590172   0.749596   3.889867  -9.694734   1.520681  2231   2231   2231  2231\n",
      "(70.073, 77.943] -0.158812   7.769117  10.463821  7.397248  -1.626207  -5.753433 -15.679089  -2.071730  2231   2231   2231  2231\n",
      "(77.943, 85.865]  2.247672  12.323239  -2.641003  4.032250  -0.432463  -2.221898 -18.198803  -6.322221  2231   2231   2231  2231\n",
      "(85.865, 100.0]  -2.957235  14.619550  13.449446 -2.386348 -11.144573  -4.284597 -12.182927 -14.457516  2231   2231   2231  2231\n",
      "                                  mean                                    median                                count                    \n",
      "                                 ret_1     ret_10     ret_30     ret_5     ret_1    ret_10     ret_30     ret_5 ret_1 ret_10 ret_30 ret_5\n",
      "StochF_D                                                                                                                                 \n",
      "(2.6750000000000003, 20.556]  3.256506 -19.397637   5.982351 -5.667857  6.066814  2.524548  24.153184  9.744908  2232   2232   2232  2232\n",
      "(20.556, 29.005]              0.548641 -18.719848   5.612607 -6.804304  2.968954  8.462633  46.020375  9.544916  2231   2231   2231  2231\n",
      "(29.005, 37.1]               -5.646588  -2.385690   4.569921 -4.357310  0.292999  7.455320  18.953394  4.821142  2231   2231   2231  2231\n",
      "(37.1, 45.332]                2.302611   2.319812   1.470067  4.682545  3.049797  7.396673  14.878293  8.321872  2231   2231   2231  2231\n",
      "(45.332, 53.472]             -0.825457   1.776772   2.016470  3.671541  0.321259  3.406950   2.095669  2.836270  2231   2231   2231  2231\n",
      "(53.472, 61.298]              0.729738   6.964394   5.104449  3.559741  0.464599  2.531247   0.000000  2.059631  2231   2231   2231  2231\n",
      "(61.298, 68.831]              1.454002  -2.110778  -0.604177  1.547177 -0.501731 -2.950991 -12.221098  0.430404  2231   2231   2231  2231\n",
      "(68.831, 76.281]              0.646773  13.844130  20.016432  2.780480 -0.093993 -2.289323  -5.258006 -2.513914  2231   2231   2231  2231\n",
      "(76.281, 83.407]              3.031270  14.814420  -8.519824  6.850289  1.050026 -2.016780 -21.386393 -3.118540  2231   2231   2231  2231\n",
      "(83.407, 98.036]             -2.986376  21.951656  23.762031  4.077921 -5.126243  6.482273  -6.247890 -7.337680  2231   2231   2231  2231\n"
     ]
    }
   ],
   "source": [
    "print_corrs(df, ['StochF_K', 'StochF_D'], ['ret_5', 'ret_1', 'ret_10', 'ret_30'])\n",
    "print_buckets(df, ['StochF_K', 'StochF_D'], ['ret_5', 'ret_1', 'ret_10', 'ret_30'])"
   ]
  },
  {
   "cell_type": "code",
   "execution_count": 47,
   "metadata": {},
   "outputs": [],
   "source": [
    "def datafunc(df):\n",
    "    try:\n",
    "        df['volume'] = 0\n",
    "    except:\n",
    "        pass\n",
    "    df['AD'] = talib.AD(df['high'], df['low'], df['close'], df['volume'])\n",
    "    df['APO'] = talib.APO(df['close'], fastperiod=12, slowperiod=26)\n",
    "    df['AROON_UP'], df['AROON_DOWN'] = talib.AROON(df['high'], df['low'], timeperiod=14)\n",
    "    df['MOM'] = talib.MOM(df['close'], timeperiod=10)\n",
    "    df['PLUS_DI'] = talib.PLUS_DI(df['high'], df['low'], df['close'], timeperiod=14)\n",
    "    df['PLUS_DM'] = talib.PLUS_DM(df['high'], df['low'], timeperiod=14)\n",
    "    df['ROC'] = talib.ROC(df['close'], timeperiod=10)\n",
    "    df['ROCP'] = talib.ROCP(df['close'], timeperiod=10)\n",
    "    df['ROCR'] = talib.ROCR(df['close'], timeperiod=10)\n",
    "    df['ROCR100'] = talib.ROCR100(df['close'], timeperiod=10)\n",
    "    df['STOCH_K'], df['STOCH_D'] = talib.STOCH(df['high'], df['low'], df['close'], fastk_period=5, slowk_period=3, slowk_matype=0, slowd_period=3, slowd_matype=0)\n",
    "    df['STOCHF_K'], df['STOCHF_D'] = talib.STOCHF(df['high'], df['low'], df['close'], fastk_period=5, fastd_period=3, fastd_matype=0)\n",
    "    df['STOCHRSI_K'], df['STOCHRSI_D'] = talib.STOCHRSI(df['close'], timeperiod=14, fastk_period=5, fastd_period=3, fastd_matype=0)\n",
    "    df['ULTOSC'] = talib.ULTOSC(df['high'], df['low'], df['close'], timeperiod1=7, timeperiod2=14, timeperiod3=28)\n",
    "    df['WILLR'] = talib.WILLR(df['high'], df['low'], df['close'], timeperiod=14)\n",
    "\n",
    "    df['ADOSC'] = talib.ADOSC(df['high'], df['low'], df['close'], df['volume'], fastperiod=3, slowperiod=10)\n",
    "    df['BOP'] = talib.BOP(df['open'], df['high'], df['low'], df['close'])\n",
    "    df['CMO'] = talib.CMO(df['close'], timeperiod=14)\n",
    "    df['DX'] = talib.DX(df['high'], df['low'], df['close'], timeperiod=14)\n",
    "    df['HT_DCPERIOD'] = talib.HT_DCPERIOD(df['close'])\n",
    "    df['HT_DCPHASE'] = talib.HT_DCPHASE(df['close'])\n",
    "    df['HT_PHASOR_INPHASE'], df['HT_PHASOR_QUADRATURE'] = talib.HT_PHASOR(df['close'])\n",
    "    df['HT_SINE'], df['HT_LEADSINE'] = talib.HT_SINE(df['close'])\n",
    "    df['HT_TRENDMODE'] = talib.HT_TRENDMODE(df['close'])\n",
    "    df['LINEARREG'] = talib.LINEARREG(df['close'], timeperiod=14)\n",
    "    df['LINEARREG_ANGLE'] = talib.LINEARREG_ANGLE(df['close'], timeperiod=14)\n",
    "    df['LINEARREG_INTERCEPT'] = talib.LINEARREG_INTERCEPT(df['close'], timeperiod=14)\n",
    "    df['LINEARREG_SLOPE'] = talib.LINEARREG_SLOPE(df['close'], timeperiod=14)\n",
    "    df['MAX'] = talib.MAX(df['close'], timeperiod=14)\n",
    "    df['MAXINDEX'] = talib.MAXINDEX(df['close'], timeperiod=14)\n",
    "    df['MEDPRICE'] = talib.MEDPRICE(df['high'], df['low'])\n",
    "    df['SAREXT'] = talib.SAREXT(df['high'], df['low'], startvalue=0, offsetonreverse=0, accelerationinitlong=0, accelerationlong=0, accelerationmaxlong=0, accelerationinitshort=0, accelerationshort=0, accelerationmaxshort=0)\n",
    "\n",
    "    df['ATR'] = talib.ATR(df['high'], df['low'], df['close'], timeperiod=14)\n",
    "    df['NATR'] = talib.NATR(df['high'], df['low'], df['close'], timeperiod=14)\n",
    "    df['TRANGE'] = talib.TRANGE(df['high'], df['low'], df['close'])\n",
    "    df['ADX'] = talib.ADX(df['high'], df['low'], df['close'], timeperiod=14)\n",
    "    df['ADXR'] = talib.ADXR(df['high'], df['low'], df['close'], timeperiod=14)\n",
    "    df['CCI'] = talib.CCI(df['high'], df['low'], df['close'], timeperiod=14)\n",
    "    df['CMO'] = talib.CMO(df['close'], timeperiod=14)\n",
    "    df['DX'] = talib.DX(df['high'], df['low'], df['close'], timeperiod=14)\n",
    "    df['HT_TRENDLINE'] = talib.HT_TRENDLINE(df['close'])\n",
    "    df['HT_DCPHASE'] = talib.HT_DCPHASE(df['close'])\n",
    "    df['LINEARREG_ANGLE'] = talib.LINEARREG_ANGLE(df['close'], timeperiod=14)\n",
    "    df['LINEARREG_INTERCEPT'] = talib.LINEARREG_INTERCEPT(df['close'], timeperiod=14)\n",
    "    df['LINEARREG_SLOPE'] = talib.LINEARREG_SLOPE(df['close'], timeperiod=14)\n",
    "    df['STDDEV'] = talib.STDDEV(df['close'], timeperiod=5, nbdev=1)\n",
    "    df['TSF'] = talib.TSF(df['close'], timeperiod=14) - df['close']\n",
    "    df['VAR'] = talib.VAR(df['close'], timeperiod=5, nbdev=1)\n",
    "     \n",
    "    \n",
    "    return df"
   ]
  },
  {
   "cell_type": "code",
   "execution_count": 48,
   "metadata": {},
   "outputs": [
    {
     "name": "stdout",
     "output_type": "stream",
     "text": [
      "         unix                date    symbol      open      high       low     close  Volume BTC  Volume USDT   change_5      ret_5      ret_1     ret_10     ret_30\n",
      "0  1648864800  2022-04-02 2:00:00  BTC/USDT  46435.46  46435.46  46406.83  46406.83    0.041542  1927.838101   3.761998  44.538703   0.000000  86.092931   9.524460\n",
      "1  1648868400  2022-04-02 3:00:00  BTC/USDT  46406.83  46406.83  46406.83  46406.83    0.000000     0.000000   5.222722  44.538703  34.663001  86.092931   9.524460\n",
      "2  1648872000  2022-04-02 4:00:00  BTC/USDT  46618.10  46632.22  46567.69  46567.69    0.114339  5324.506367  10.751671   9.841588  -2.117348  51.252274 -53.318084\n",
      "3  1648875600  2022-04-02 5:00:00  BTC/USDT  46545.18  46557.83  46504.57  46557.83    0.036186  1684.734187 -13.795252   6.849546  11.961468 -70.209458 -66.850195\n",
      "4  1648879200  2022-04-02 6:00:00  BTC/USDT  46613.52  46613.53  46613.52  46613.52    0.069000  3216.332880 -13.196342   6.864961   0.000000 -82.072755 -78.786155\n"
     ]
    }
   ],
   "source": [
    "print(df3.head())\n",
    "\n",
    "# df3 = df3.iloc[1:]\n",
    "\n",
    "# df3.columns = ['serial','timestamp', 'symbol','open', 'high', 'low', 'close', 'volume', 'vol_usd']"
   ]
  },
  {
   "cell_type": "code",
   "execution_count": 49,
   "metadata": {},
   "outputs": [],
   "source": [
    "# plt.plot(df3['close'], df3['date'])"
   ]
  },
  {
   "cell_type": "code",
   "execution_count": 50,
   "metadata": {},
   "outputs": [],
   "source": [
    "df = datafunc(df)\n",
    "df2 = datafunc(df2)\n",
    "df3 = datafunc(df3)\n",
    "df_merged = datafunc(df_merged)"
   ]
  },
  {
   "cell_type": "code",
   "execution_count": 51,
   "metadata": {},
   "outputs": [],
   "source": [
    "alphas = ['APO', 'AROON_UP', 'AROON_DOWN', 'MOM', 'PLUS_DI', 'PLUS_DM', 'ROC', 'ROCP', 'ROCR', 'ROCR100', 'STOCH_K', 'STOCH_D', 'STOCHF_K', 'STOCHF_D', 'STOCHRSI_K', 'STOCHRSI_D', 'ULTOSC', 'WILLR', 'ADOSC', 'BOP', 'CMO', 'DX', 'HT_DCPERIOD', 'HT_DCPHASE', 'HT_PHASOR_INPHASE', 'HT_PHASOR_QUADRATURE', 'HT_SINE', 'HT_LEADSINE', 'HT_TRENDMODE', 'LINEARREG', 'LINEARREG_ANGLE', 'LINEARREG_INTERCEPT', 'LINEARREG_SLOPE', 'MAX', 'MAXINDEX', 'MEDPRICE', 'SAREXT', 'ATR', 'NATR', 'TRANGE', 'ADX', 'ADXR', 'CCI', 'CMO', 'DX', 'HT_TRENDLINE', 'HT_DCPHASE', 'LINEARREG_ANGLE', 'LINEARREG_INTERCEPT', 'LINEARREG_SLOPE', 'STDDEV', 'TSF', 'VAR']"
   ]
  },
  {
   "cell_type": "code",
   "execution_count": 52,
   "metadata": {},
   "outputs": [],
   "source": [
    "# alphas = ['AD', 'APO', 'AROON_UP', 'AROON_DOWN', 'MOM', 'PLUS_DI', 'PLUS_DM', 'ROC', 'ROCP', 'ROCR', 'ROCR100', 'STOCH_K', 'STOCH_D', 'STOCHF_K', 'STOCHF_D', 'STOCHRSI_K', 'STOCHRSI_D', 'ULTOSC', 'WILLR', '']"
   ]
  },
  {
   "cell_type": "code",
   "execution_count": 53,
   "metadata": {},
   "outputs": [
    {
     "name": "stdout",
     "output_type": "stream",
     "text": [
      "                                         ret_5   ret_1  ret_10  ret_30\n",
      "APO                            corr ->    5.22    2.06    4.44   -1.88 \n",
      "AROON_UP                       corr ->    0.01    1.51   -3.56   -1.02 \n",
      "AROON_DOWN                     corr ->    3.26   -0.23    6.52    1.70 \n",
      "MOM                            corr ->   -1.37   -3.01    3.62   -1.11 \n",
      "PLUS_DI                        corr ->    3.55    1.12    5.50    2.19 \n",
      "PLUS_DM                        corr ->    0.39   -0.29    1.14   -1.13 \n",
      "ROC                            corr ->   -1.53   -2.85    3.78   -1.65 \n",
      "ROCP                           corr ->   -1.53   -2.85    3.78   -1.65 \n",
      "ROCR                           corr ->   -1.53   -2.85    3.78   -1.65 \n",
      "ROCR100                        corr ->   -1.53   -2.85    3.78   -1.65 \n",
      "STOCH_K                        corr ->   -1.24   -1.28   -0.17    0.15 \n",
      "STOCH_D                        corr ->   -1.09   -0.55    1.06    0.48 \n",
      "STOCHF_K                       corr ->   -1.71   -2.40   -1.11   -0.32 \n",
      "STOCHF_D                       corr ->   -1.24   -1.28   -0.17    0.18 \n",
      "STOCHRSI_K                     corr ->   -2.28   -2.41   -1.76   -0.35 \n",
      "STOCHRSI_D                     corr ->   -1.82   -1.94   -1.04    0.14 \n",
      "ULTOSC                         corr ->   -0.92   -1.50    1.08   -0.52 \n",
      "WILLR                          corr ->    0.82   -1.33    3.29   -0.05 \n",
      "ADOSC                          corr ->     nan     nan     nan     nan \n",
      "BOP                            corr ->   -2.01   -3.49   -0.85   -0.19 \n",
      "CMO                            corr ->    3.31    0.41    5.24    2.69 \n",
      "DX                             corr ->   -1.52   -0.17   -2.60   -0.82 \n",
      "HT_DCPERIOD                    corr ->   -0.10   -0.06    0.09    2.12 \n",
      "HT_DCPHASE                     corr ->    3.30    1.20    2.79    0.79 \n",
      "HT_PHASOR_INPHASE              corr ->    0.60   -0.94    5.37   -0.57 \n",
      "HT_PHASOR_QUADRATURE           corr ->   -3.34   -2.19   -3.55   -0.90 \n",
      "HT_SINE                        corr ->   -0.55   -0.63    3.25    0.28 \n",
      "HT_LEADSINE                    corr ->   -3.03   -1.13   -1.79   -1.22 \n",
      "HT_TRENDMODE                   corr ->   -1.02   -0.15   -0.34    1.44 \n",
      "LINEARREG                      corr ->   -3.46   -1.52   -4.92   -9.58 \n",
      "LINEARREG_ANGLE                corr ->    0.70   -0.72    4.04    0.62 \n",
      "LINEARREG_INTERCEPT            corr ->   -3.63   -1.36   -5.74   -9.52 \n",
      "LINEARREG_SLOPE                corr ->    1.54   -1.43    7.20   -0.36 \n",
      "MAX                            corr ->   -3.66   -1.47   -5.45   -9.42 \n",
      "MAXINDEX                       corr ->    1.55    0.61    2.29    3.97 \n",
      "MEDPRICE                       corr ->   -3.61   -1.64   -5.11   -9.23 \n",
      "SAREXT                         corr ->    1.09    0.22    1.26    2.14 \n",
      "ATR                            corr ->   -0.48    0.19   -1.33   -1.02 \n",
      "NATR                           corr ->    2.44    1.75    2.19    4.44 \n",
      "TRANGE                         corr ->    1.06    1.47    0.48   -0.79 \n",
      "ADX                            corr ->   -1.29   -0.49   -1.41    1.62 \n",
      "ADXR                           corr ->    0.38    0.00    0.95    2.85 \n",
      "CCI                            corr ->    0.10   -0.66    2.17    0.40 \n",
      "CMO                            corr ->    3.31    0.41    5.24    2.69 \n",
      "DX                             corr ->   -1.52   -0.17   -2.60   -0.82 \n",
      "HT_TRENDLINE                   corr ->   -4.04   -1.68   -5.84   -9.90 \n",
      "HT_DCPHASE                     corr ->    3.30    1.20    2.79    0.79 \n",
      "LINEARREG_ANGLE                corr ->    0.70   -0.72    4.04    0.62 \n",
      "LINEARREG_INTERCEPT            corr ->   -3.63   -1.36   -5.74   -9.52 \n",
      "LINEARREG_SLOPE                corr ->    1.54   -1.43    7.20   -0.36 \n",
      "STDDEV                         corr ->    1.55    1.74    0.46   -0.78 \n",
      "TSF                            corr ->    6.21    4.67    9.05    2.00 \n",
      "VAR                            corr ->    4.63    4.37    2.51   -0.44 \n",
      "\n"
     ]
    }
   ],
   "source": [
    "print_corrs(df, alphas, ['ret_5', 'ret_1', 'ret_10', 'ret_30'])"
   ]
  },
  {
   "cell_type": "code",
   "execution_count": 54,
   "metadata": {},
   "outputs": [
    {
     "name": "stdout",
     "output_type": "stream",
     "text": [
      "                         mean                                      median                                  count                    \n",
      "                        ret_1     ret_10     ret_30      ret_5      ret_1     ret_10     ret_30      ret_5 ret_1 ret_10 ret_30 ret_5\n",
      "TSF                                                                                                                                 \n",
      "(-958.667, -77.188] -6.587493 -42.391414 -27.704207 -20.458517  -9.819428 -16.041781  -4.044027 -14.461958  2230   2230   2230  2230\n",
      "(-77.188, -38.468]   1.617666 -10.964054  -9.468355  -5.889505  -3.600948  -8.172244  -5.702095  -3.999375  2230   2230   2230  2230\n",
      "(-38.468, -19.283]   1.797356  -0.130790   4.001387   5.047423  -1.641678  -0.002956   9.931201   2.536447  2230   2230   2230  2230\n",
      "(-19.283, -8.086]    4.456516  11.721010  18.697587  12.890091   0.464599   1.203649   2.295603   3.753552  2229   2229   2229  2229\n",
      "(-8.086, 0.19]      -1.099201   4.589263  22.925003   3.195781  -0.315924   0.917825   9.675285   2.650020  2230   2230   2230  2230\n",
      "(0.19, 8.192]       -1.122764   7.024469  12.550227   0.664786   1.317935   6.006160   7.110128   2.243338  2230   2230   2230  2230\n",
      "(8.192, 19.955]     -0.643144  -1.185965  15.705041  -4.608087   2.345169   2.604325  12.786837   2.405314  2229   2229   2229  2229\n",
      "(19.955, 38.499]    -2.202359  11.131089   8.887139   0.827465   2.391990   8.882121   9.397680   6.037608  2230   2230   2230  2230\n",
      "(38.499, 78.478]    -0.458561  11.236232   4.010250   2.290969   6.002915  14.329382   0.167314   7.333509  2230   2230   2230  2230\n",
      "(78.478, 1231.673]   6.793604  27.701289   3.151954  16.179127  10.304946  26.872381   5.658384  15.741796  2230   2230   2230  2230\n"
     ]
    }
   ],
   "source": [
    "print_buckets(df, ['TSF'], ['ret_5', 'ret_1', 'ret_10', 'ret_30'])"
   ]
  },
  {
   "cell_type": "code",
   "execution_count": 55,
   "metadata": {},
   "outputs": [
    {
     "data": {
      "text/plain": [
       "[<matplotlib.lines.Line2D at 0x1cc5742ddb0>]"
      ]
     },
     "execution_count": 55,
     "metadata": {},
     "output_type": "execute_result"
    },
    {
     "data": {
      "image/png": "[encoded data removed]",
      "text/plain": [
       "<Figure size 640x480 with 1 Axes>"
      ]
     },
     "metadata": {},
     "output_type": "display_data"
    }
   ],
   "source": [
    "plt.plot(df2['close'])\n",
    "plt.plot(df3['close'])"
   ]
  },
  {
   "cell_type": "code",
   "execution_count": 56,
   "metadata": {},
   "outputs": [
    {
     "name": "stdout",
     "output_type": "stream",
     "text": [
      "                                         ret_5   ret_1  ret_10  ret_30\n",
      "APO                            corr ->    0.80    0.41    0.23   -0.24 \n",
      "AROON_UP                       corr ->   -1.19    0.08   -2.46   -0.94 \n",
      "AROON_DOWN                     corr ->   -0.99   -0.51   -0.59   -0.17 \n",
      "MOM                            corr ->    0.15   -0.79    1.30    0.00 \n",
      "PLUS_DI                        corr ->   -0.48   -0.27   -0.34   -1.70 \n",
      "PLUS_DM                        corr ->    0.40    0.18    1.01    0.21 \n",
      "ROC                            corr ->   -0.06   -1.37    1.42    0.52 \n",
      "ROCP                           corr ->   -0.06   -1.37    1.42    0.52 \n",
      "ROCR                           corr ->   -0.06   -1.37    1.42    0.52 \n",
      "ROCR100                        corr ->   -0.06   -1.37    1.42    0.52 \n",
      "STOCH_K                        corr ->   -1.31   -1.47   -0.06    0.08 \n",
      "STOCH_D                        corr ->   -0.42   -1.03    0.65    0.28 \n",
      "STOCHF_K                       corr ->   -1.76   -1.38   -0.71   -0.07 \n",
      "STOCHF_D                       corr ->   -1.31   -1.46   -0.05    0.07 \n",
      "STOCHRSI_K                     corr ->   -2.35   -1.36   -1.31   -0.48 \n",
      "STOCHRSI_D                     corr ->   -2.06   -1.65   -0.98   -0.42 \n",
      "ULTOSC                         corr ->   -0.77   -1.27    0.30   -0.90 \n",
      "WILLR                          corr ->   -0.37   -0.69    0.50    0.41 \n",
      "ADOSC                          corr ->     nan     nan     nan     nan \n",
      "BOP                            corr ->   -0.73   -1.12   -0.18   -0.14 \n",
      "CMO                            corr ->    0.81   -0.09    1.77    1.86 \n",
      "DX                             corr ->   -0.91    0.43   -2.22   -0.48 \n",
      "HT_DCPERIOD                    corr ->    0.38   -0.31    1.61    0.07 \n",
      "HT_DCPHASE                     corr ->    0.74    0.34   -0.18    0.85 \n",
      "HT_PHASOR_INPHASE              corr ->    0.86    0.41    1.35    0.60 \n",
      "HT_PHASOR_QUADRATURE           corr ->   -0.67   -0.53   -0.29   -0.43 \n",
      "HT_SINE                        corr ->    1.28   -0.05    2.24    0.47 \n",
      "HT_LEADSINE                    corr ->   -0.19   -0.59    0.56   -0.66 \n",
      "HT_TRENDMODE                   corr ->    0.16    0.45   -0.50    1.26 \n",
      "LINEARREG                      corr ->   -1.67   -0.77   -2.37   -4.20 \n",
      "LINEARREG_ANGLE                corr ->    0.44    0.00    1.17    0.75 \n",
      "LINEARREG_INTERCEPT            corr ->   -1.76   -0.76   -2.49   -4.22 \n",
      "LINEARREG_SLOPE                corr ->    1.17   -0.08    1.71    0.22 \n",
      "MAX                            corr ->   -1.72   -0.76   -2.40   -4.15 \n",
      "MAXINDEX                       corr ->    1.36    0.60    1.96    3.38 \n",
      "MEDPRICE                       corr ->   -1.72   -0.79   -2.40   -4.20 \n",
      "SAREXT                         corr ->   -2.13   -0.99   -2.99   -5.02 \n",
      "ATR                            corr ->    1.07    0.54    1.72    2.74 \n",
      "NATR                           corr ->    2.62    1.45    3.65    5.45 \n",
      "TRANGE                         corr ->    0.64    0.79    0.61    1.93 \n",
      "ADX                            corr ->   -1.05   -0.39   -0.90    1.11 \n",
      "ADXR                           corr ->   -0.01    0.05    0.30    1.54 \n",
      "CCI                            corr ->   -0.54   -0.47    0.61    0.80 \n",
      "CMO                            corr ->    0.81   -0.09    1.77    1.86 \n",
      "DX                             corr ->   -0.91    0.43   -2.22   -0.48 \n",
      "HT_TRENDLINE                   corr ->   -1.79   -0.80   -2.51   -4.26 \n",
      "HT_DCPHASE                     corr ->    0.74    0.34   -0.18    0.85 \n",
      "LINEARREG_ANGLE                corr ->    0.44    0.00    1.17    0.75 \n",
      "LINEARREG_INTERCEPT            corr ->   -1.76   -0.76   -2.49   -4.22 \n",
      "LINEARREG_SLOPE                corr ->    1.17   -0.08    1.71    0.22 \n",
      "STDDEV                         corr ->    0.28    0.65   -0.00    0.59 \n",
      "TSF                            corr ->    2.75    1.73    1.63    0.67 \n",
      "VAR                            corr ->   -0.45   -0.55    0.19    1.03 \n",
      "\n"
     ]
    }
   ],
   "source": [
    "print_corrs(df_merged, alphas, ['ret_5', 'ret_1', 'ret_10', 'ret_30'])"
   ]
  },
  {
   "cell_type": "code",
   "execution_count": 57,
   "metadata": {},
   "outputs": [
    {
     "data": {
      "text/plain": [
       "[<matplotlib.lines.Line2D at 0x1cc55ef41f0>]"
      ]
     },
     "execution_count": 57,
     "metadata": {},
     "output_type": "execute_result"
    },
    {
     "data": {
      "image/png": "[encoded data removed]",
      "text/plain": [
       "<Figure size 640x480 with 1 Axes>"
      ]
     },
     "metadata": {},
     "output_type": "display_data"
    }
   ],
   "source": [
    "plt.plot(df_merged['TSF'])"
   ]
  },
  {
   "cell_type": "code",
   "execution_count": 58,
   "metadata": {},
   "outputs": [
    {
     "name": "stdout",
     "output_type": "stream",
     "text": [
      "                           mean                                  median                                count                     \n",
      "                          ret_1    ret_10    ret_30     ret_5     ret_1    ret_10    ret_30     ret_5  ret_1 ret_10 ret_30  ret_5\n",
      "SAREXT                                                                                                                           \n",
      "(-17176.241, 12940.0]  0.259006  1.892909  5.892394  1.028617  0.831654  3.217058  5.946891  2.806905  22310  22310  22310  22310\n"
     ]
    },
    {
     "data": {
      "text/plain": [
       "count    22310.000000\n",
       "mean    -16967.998909\n",
       "std       2482.845283\n",
       "min     -17176.240000\n",
       "25%     -17176.240000\n",
       "50%     -17176.240000\n",
       "75%     -17176.240000\n",
       "max      12940.000000\n",
       "Name: SAREXT, dtype: float64"
      ]
     },
     "execution_count": 58,
     "metadata": {},
     "output_type": "execute_result"
    }
   ],
   "source": [
    "print_buckets(df, ['SAREXT'], ['ret_5', 'ret_1', 'ret_10', 'ret_30'], buckets=100)\n",
    "df['SAREXT'].describe()"
   ]
  },
  {
   "cell_type": "code",
   "execution_count": 59,
   "metadata": {},
   "outputs": [
    {
     "name": "stdout",
     "output_type": "stream",
     "text": [
      "                                   mean                                     median                                  count                    \n",
      "                                  ret_1     ret_10     ret_30      ret_5     ret_1     ret_10     ret_30      ret_5 ret_1 ret_10 ret_30 ret_5\n",
      "CMO                                                                                                                                          \n",
      "(-91.27000000000001, -31.385]  0.389975 -27.180577 -13.656162  -9.970049  4.270474   2.233864  21.723455   4.389332  2230   2230   2230  2230\n",
      "(-31.385, -19.076]             1.113078  -2.482911  23.029826  -4.715748  4.894177  16.410296  49.173579  11.830228  2230   2230   2230  2230\n",
      "(-19.076, -11.3]               0.146128  12.075775  16.701956   6.803592  3.019340  13.569404  18.429225   9.900854  2229   2229   2229  2229\n",
      "(-11.3, -4.969]               -1.871840  -1.026389 -12.187735   1.447264  1.412357  10.121750   4.971476   7.524777  2230   2230   2230  2230\n",
      "(-4.969, 1.084]                2.998139  -2.148782  -4.625023  -1.890600  2.295855   2.781907   5.527050   2.742769  2230   2230   2230  2230\n",
      "(1.084, 6.61]                 -2.079030  -4.852264 -18.643731  -2.052821  0.192374   2.450011   0.787741   3.361523  2229   2229   2229  2229\n",
      "(6.61, 12.669]                 1.175755   4.032736  13.129276   3.727939  0.000000  -4.608254   1.699666  -0.440008  2230   2230   2230  2230\n",
      "(12.669, 20.273]              -2.438232   9.462895   6.528134   3.148093 -2.595684  -8.375529  -9.792416  -6.288618  2229   2229   2229  2229\n",
      "(20.273, 32.802]              -0.164425  -0.019991  -4.558869  -3.413666 -2.146714  -9.684013 -23.190277  -7.533234  2230   2230   2230  2230\n",
      "(32.802, 92.821]               3.264860  30.689926  46.571256  16.944441 -1.060146   4.106267 -12.435398   2.585840  2230   2230   2230  2230\n"
     ]
    }
   ],
   "source": [
    "print_buckets(df, ['CMO'], ['ret_5', 'ret_1', 'ret_10', 'ret_30'])"
   ]
  },
  {
   "cell_type": "code",
   "execution_count": 66,
   "metadata": {},
   "outputs": [
    {
     "name": "stdout",
     "output_type": "stream",
     "text": [
      "                     mean                                    median                                 count                    \n",
      "                    ret_1     ret_10     ret_30     ret_5     ret_1     ret_10     ret_30     ret_5 ret_1 ret_10 ret_30 ret_5\n",
      "NATR                                                                                                                         \n",
      "(0.0532, 0.263]  0.320970   9.713380  28.654174  2.496058  0.000000   1.037124   6.898845 -0.338323  2024   2024   2024  2024\n",
      "(0.263, 0.35]    0.127288  -9.936438 -21.543426 -3.295436  0.000000  -4.077888  -6.304508  0.000000  2023   2023   2023  2023\n",
      "(0.35, 0.424]   -0.229817  -4.497835 -15.913105  0.284310  0.000000  -2.919881 -13.560307  1.615906  2024   2024   2024  2024\n",
      "(0.424, 0.494]  -0.793580   3.584123   8.714571 -3.777620  0.000000   0.000000  -5.793295  0.000000  2023   2023   2023  2023\n",
      "(0.494, 0.586]  -0.572073   1.899134   3.892334  3.844370  0.000000  -0.226438  -5.956427  1.204466  2024   2024   2024  2024\n",
      "(0.586, 0.702]  -0.357042  -3.676914 -18.979217 -0.467478  0.000000  -7.208073  -1.589067 -2.665423  2023   2023   2023  2023\n",
      "(0.702, 0.829]  -0.204043  -1.050984 -32.845613 -0.444300  0.000000  -2.479339 -14.973888 -1.148941  2023   2023   2023  2023\n",
      "(0.829, 0.993]   0.180894  -1.711242  22.735045 -3.776337  0.000000  -4.167173  18.944858 -1.935367  2024   2024   2024  2024\n",
      "(0.993, 1.236]   2.294613  11.570423  48.940735  9.297912  1.725714  -0.328289  32.649145  0.516145  2023   2023   2023  2023\n",
      "(1.236, 4.81]    1.802583  19.544200  51.358041  8.614112  1.195823  21.294063  42.183885  8.924267  2024   2024   2024  2024\n"
     ]
    }
   ],
   "source": [
    "print_buckets(df_merged, ['NATR'], ['ret_5', 'ret_1', 'ret_10', 'ret_30'], buckets=10)"
   ]
  },
  {
   "cell_type": "code",
   "execution_count": 61,
   "metadata": {},
   "outputs": [
    {
     "name": "stdout",
     "output_type": "stream",
     "text": [
      "                                    mean                                     median                                count                    \n",
      "                                   ret_1     ret_10     ret_30      ret_5     ret_1    ret_10     ret_30     ret_5 ret_1 ret_10 ret_30 ret_5\n",
      "HT_DCPHASE                                                                                                                                  \n",
      "(-44.974999999999994, -11.764]  1.067080 -10.462427  -6.525168  -7.235130  1.015796 -1.237777   6.574394 -1.233882  2019   2019   2019  2019\n",
      "(-11.764, 12.517]              -2.989255   1.381955   6.245519  -5.991182  0.000000  1.812382  11.824143  1.550748  2019   2019   2019  2019\n",
      "(12.517, 38.127]                1.932031  10.688076  -1.610041  10.233212  0.000000  4.467027   7.000252  4.152934  2018   2018   2018  2018\n",
      "(38.127, 78.012]               -0.333031   4.901033  18.509501   1.851507  0.000000  2.113287  12.004802  0.000000  2019   2019   2019  2019\n",
      "(78.012, 135.548]               0.914114   7.844914   1.176439   5.674687  0.000000 -2.652703  -7.124199 -2.849000  2018   2018   2018  2018\n",
      "(135.548, 167.391]              0.824176   6.953630  21.672131   0.100501  0.000000 -6.246918  -4.458812 -5.874793  2019   2019   2019  2019\n",
      "(167.391, 191.815]              1.279120   5.087059  12.299662   4.138084  0.000000 -0.903765  -6.478445  0.372654  2018   2018   2018  2018\n",
      "(191.815, 219.242]             -0.517186   8.256857   8.046454   3.671461  0.000000 -0.593014  -8.939974  0.000000  2019   2019   2019  2019\n",
      "(219.242, 258.495]              0.224184  -6.881251   8.988221   0.050808  0.000000 -5.368202 -11.086090  2.563224  2018   2018   2018  2018\n",
      "(258.495, 314.909]             -0.079797  -5.570117   3.461940  -1.324245  0.000000 -2.621232   7.728274  1.224390  2019   2019   2019  2019\n"
     ]
    }
   ],
   "source": [
    "print_buckets(df_merged, ['HT_DCPHASE'], ['ret_5', 'ret_1', 'ret_10', 'ret_30'])"
   ]
  },
  {
   "cell_type": "code",
   "execution_count": null,
   "metadata": {},
   "outputs": [],
   "source": []
  }
 ],
 "metadata": {
  "kernelspec": {
   "display_name": "Python 3",
   "language": "python",
   "name": "python3"
  },
  "language_info": {
   "codemirror_mode": {
    "name": "ipython",
    "version": 3
   },
   "file_extension": ".py",
   "mimetype": "text/x-python",
   "name": "python",
   "nbconvert_exporter": "python",
   "pygments_lexer": "ipython3",
   "version": "3.10.5"
  }
 },
 "nbformat": 4,
 "nbformat_minor": 2
}
