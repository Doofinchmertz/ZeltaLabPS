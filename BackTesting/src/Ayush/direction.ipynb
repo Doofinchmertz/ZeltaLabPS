{
 "cells": [
  {
   "cell_type": "markdown",
   "metadata": {},
   "source": [
    "## Import and Functions\n"
   ]
  },
  {
   "cell_type": "code",
   "execution_count": 1,
   "metadata": {},
   "outputs": [],
   "source": [
    "import pandas as pd\n",
    "import numpy as np\n",
    "import matplotlib.pyplot as plt\n",
    "from sklearn.metrics import mean_squared_error\n",
    "from math import sqrt\n",
    "import os\n",
    "from numpy import dot\n",
    "from numpy import sum, tile, linalg, log, pi, exp\n",
    "from glob import glob\n",
    "from numpy.linalg import inv, det\n",
    "import math as m"
   ]
  },
  {
   "cell_type": "code",
   "execution_count": 19,
   "metadata": {},
   "outputs": [
    {
     "data": {
      "text/html": [
       "<div>\n",
       "<style scoped>\n",
       "    .dataframe tbody tr th:only-of-type {\n",
       "        vertical-align: middle;\n",
       "    }\n",
       "\n",
       "    .dataframe tbody tr th {\n",
       "        vertical-align: top;\n",
       "    }\n",
       "\n",
       "    .dataframe thead th {\n",
       "        text-align: right;\n",
       "    }\n",
       "</style>\n",
       "<table border=\"1\" class=\"dataframe\">\n",
       "  <thead>\n",
       "    <tr style=\"text-align: right;\">\n",
       "      <th></th>\n",
       "      <th>datetime</th>\n",
       "      <th>open</th>\n",
       "      <th>high</th>\n",
       "      <th>low</th>\n",
       "      <th>close</th>\n",
       "      <th>volume</th>\n",
       "    </tr>\n",
       "  </thead>\n",
       "  <tbody>\n",
       "    <tr>\n",
       "      <th>0</th>\n",
       "      <td>2018-01-01 05:30:00</td>\n",
       "      <td>13715.65</td>\n",
       "      <td>13715.65</td>\n",
       "      <td>13400.01</td>\n",
       "      <td>13529.01</td>\n",
       "      <td>443.356199</td>\n",
       "    </tr>\n",
       "    <tr>\n",
       "      <th>1</th>\n",
       "      <td>2018-01-01 06:30:00</td>\n",
       "      <td>13528.99</td>\n",
       "      <td>13595.89</td>\n",
       "      <td>13155.38</td>\n",
       "      <td>13203.06</td>\n",
       "      <td>383.697006</td>\n",
       "    </tr>\n",
       "    <tr>\n",
       "      <th>2</th>\n",
       "      <td>2018-01-01 07:30:00</td>\n",
       "      <td>13203.00</td>\n",
       "      <td>13418.43</td>\n",
       "      <td>13200.00</td>\n",
       "      <td>13330.18</td>\n",
       "      <td>429.064572</td>\n",
       "    </tr>\n",
       "    <tr>\n",
       "      <th>3</th>\n",
       "      <td>2018-01-01 08:30:00</td>\n",
       "      <td>13330.26</td>\n",
       "      <td>13611.27</td>\n",
       "      <td>13290.00</td>\n",
       "      <td>13410.03</td>\n",
       "      <td>420.087030</td>\n",
       "    </tr>\n",
       "    <tr>\n",
       "      <th>4</th>\n",
       "      <td>2018-01-01 09:30:00</td>\n",
       "      <td>13434.98</td>\n",
       "      <td>13623.29</td>\n",
       "      <td>13322.15</td>\n",
       "      <td>13601.01</td>\n",
       "      <td>340.807329</td>\n",
       "    </tr>\n",
       "  </tbody>\n",
       "</table>\n",
       "</div>"
      ],
      "text/plain": [
       "              datetime      open      high       low     close      volume\n",
       "0  2018-01-01 05:30:00  13715.65  13715.65  13400.01  13529.01  443.356199\n",
       "1  2018-01-01 06:30:00  13528.99  13595.89  13155.38  13203.06  383.697006\n",
       "2  2018-01-01 07:30:00  13203.00  13418.43  13200.00  13330.18  429.064572\n",
       "3  2018-01-01 08:30:00  13330.26  13611.27  13290.00  13410.03  420.087030\n",
       "4  2018-01-01 09:30:00  13434.98  13623.29  13322.15  13601.01  340.807329"
      ]
     },
     "execution_count": 19,
     "metadata": {},
     "output_type": "execute_result"
    }
   ],
   "source": [
    "def read_file(filename):\n",
    "    return pd.read_csv(filename)\n",
    "\n",
    "def get_data(timeframe):\n",
    "    return read_file(r\"C:\\Users\\ayush\\Desktop\\IITB\\ZeltaLabPS\\BackTesting\\data\\data\\btcusdt_\" + timeframe + \"_total.csv\")\n",
    "\n",
    "time_frame = \"1h\"\n",
    "# Load data\n",
    "df = get_data(time_frame)\n",
    "df.head()"
   ]
  },
  {
   "cell_type": "code",
   "execution_count": 20,
   "metadata": {},
   "outputs": [],
   "source": [
    "def calculate_momentum(df, n=10):\n",
    "    df['Momentum'] = df['close'] - df['close'].shift(n)\n",
    "    df['Momentum'] = df['Momentum'] / df['close'].shift(n) * 100\n",
    "    return df\n",
    "\n",
    "def calculate_roc(df, n=10):\n",
    "    df['ROC'] = (df['close'] - df['close'].shift(n)) / df['close'].shift(n)\n",
    "    return df\n",
    "\n",
    "def calculate_cci(df, n=20, factor=0.0015):\n",
    "    typical_price = (df['high'] + df['low'] + df['close']) / 3\n",
    "    sma = typical_price.rolling(window=n).mean()\n",
    "    mean_deviation = (typical_price - sma).abs().rolling(window=n).mean()\n",
    "    \n",
    "    df['CCI'] = (typical_price - sma) / (factor * mean_deviation)\n",
    "    \n",
    "    return df"
   ]
  },
  {
   "cell_type": "code",
   "execution_count": 21,
   "metadata": {},
   "outputs": [],
   "source": [
    "df['change_5'] = df['close'].rolling(window=5).mean().pct_change() * 1e4\n",
    "\n",
    "df['ret_5'] = df['close'].rolling(window=5).mean().pct_change() * 1e4\n",
    "df['ret_1'] = df['close'].rolling(window=1).mean().pct_change() * 1e4\n",
    "df['ret_10'] = df['close'].rolling(window=10).mean().pct_change() * 1e4\n",
    "df['ret_30'] = df['close'].rolling(window=30).mean().pct_change() * 1e4\n",
    "\n",
    "df['ret_5'] = df['ret_5'].shift(-5)\n",
    "df['ret_1'] = df['ret_1'].shift(-1)\n",
    "df['ret_10'] = df['ret_10'].shift(-10)\n",
    "df['ret_30'] = df['ret_30'].shift(-30)\n",
    "\n",
    "df = df.dropna()\n",
    "df = df.reset_index(drop=True)"
   ]
  },
  {
   "cell_type": "code",
   "execution_count": 22,
   "metadata": {},
   "outputs": [],
   "source": [
    "def print_buckets(df, alphas, rets = ['ret_10', 'ret_30', 'ret_60', 'ret_300', 'tick_10'], aggfunc = ['mean', 'median', 'count'], buckets = 10):\n",
    "# def print_buckets(df, alphas, rets = ['ret_10', 'ret_30', 'iv_10'], aggfunc = ['mean', 'median', 'count']):\n",
    "# def print_buckets(df, alphas, rets = ['tick_10', 'tick_30', 'tick_60', 'tick_300'], aggfunc = ['mean', 'median', 'count']):\n",
    "# def print_buckets(df, alphas, rets = ['ret_60', 'ret_300', 'iv_60'], aggfunc = ['mean', 'median', 'count']):\n",
    "    for alpha in alphas:\n",
    "        msg = df.pivot_table(index = pd.qcut(df[alpha],buckets,duplicates='drop'), values=rets, aggfunc=aggfunc)\n",
    "        print(msg)\n",
    "        \n",
    "def print_corrs(df, alphas, rets = ['ret_10', 'ret_30', 'ret_60', 'ret_300']):\n",
    "# def print_corrs(df, alphas, rets = ['ret_10', 'ret_30', 'iv_10']):\n",
    "# def print_corrs(df, alphas, rets = ['tick_10', 'tick_30', 'tick_60', 'tick_300']):\n",
    "# def print_corrs(df, alphas, rets = ['ret_60', 'ret_300', 'iv_60']):\n",
    "    msg = \"                                      \"\n",
    "    for ret in rets:\n",
    "        msg += f\"{ret:>8s}\"\n",
    "    print(msg)\n",
    "    for alpha in alphas:\n",
    "        msg = f\"{alpha:30s} corr -> \"\n",
    "        for ret in rets:\n",
    "            msg += f\"{df[alpha].corr(df[ret])*100:7.2f} \"\n",
    "        print(msg)\n",
    "    print()"
   ]
  },
  {
   "cell_type": "code",
   "execution_count": 23,
   "metadata": {},
   "outputs": [],
   "source": [
    "def calculate_volatility(df, window=20):\n",
    "    \"\"\"\n",
    "    Calculate historical volatility using daily returns.\n",
    "    \n",
    "    Parameters:\n",
    "    - df: DataFrame with 'Close' prices\n",
    "    - window: Rolling window size for volatility calculation\n",
    "    \n",
    "    Returns:\n",
    "    - DataFrame with 'Volatility' column\n",
    "    \"\"\"\n",
    "    # Calculate daily returns\n",
    "    df['Daily_Return'] = df['close'].pct_change()\n",
    "\n",
    "    # Calculate historical volatility using the rolling standard deviation\n",
    "    df['Volatility'] = df['Daily_Return'].rolling(window=window).std() * (252**0.5)  # 252 trading days in a year\n",
    "\n",
    "    return df.dropna()"
   ]
  },
  {
   "cell_type": "code",
   "execution_count": 24,
   "metadata": {},
   "outputs": [],
   "source": [
    "df = calculate_volatility(df)\n",
    "df = calculate_momentum(df)\n",
    "df = calculate_roc(df)\n",
    "df = calculate_cci(df)\n"
   ]
  },
  {
   "cell_type": "code",
   "execution_count": 25,
   "metadata": {},
   "outputs": [],
   "source": [
    "def calculate_alpha(btc_data):\n",
    "    # Ensure that the data is sorted in ascending order by date\n",
    "    # btc_data = btc_data.sort_index()\n",
    "\n",
    "    # Calculate the 5-day delta of close prices\n",
    "    btc_data['Close_5D_Delta'] = btc_data['close'].diff(5)\n",
    "\n",
    "    # Calculate the 20-day standard deviation of close prices\n",
    "    btc_data['Close_20D_STD'] = btc_data['close'].rolling(window=20).std()\n",
    "\n",
    "    # Calculate the 10-day correlation between close prices and volume\n",
    "    btc_data['Close_Volume_10D_Corr'] = btc_data['close'].rolling(window=10).corr(btc_data['volume'])\n",
    "\n",
    "    # Combine the calculated values into the alpha expression\n",
    "    btc_data['Alpha'] = btc_data['Close_5D_Delta'] / btc_data['Close_20D_STD'] + btc_data['Close_Volume_10D_Corr']\n",
    "\n",
    "    return btc_data"
   ]
  },
  {
   "cell_type": "code",
   "execution_count": 26,
   "metadata": {},
   "outputs": [],
   "source": [
    "df = calculate_alpha(df)"
   ]
  },
  {
   "cell_type": "markdown",
   "metadata": {},
   "source": [
    "## Checking direction with pivot"
   ]
  },
  {
   "cell_type": "code",
   "execution_count": 27,
   "metadata": {},
   "outputs": [],
   "source": [
    "df['oc'] = df['close'] - df['open']\n"
   ]
  },
  {
   "cell_type": "code",
   "execution_count": 28,
   "metadata": {},
   "outputs": [],
   "source": [
    "rets = ['ret_1', 'ret_5','ret_10']\n",
    "aggfunc = ['mean', 'median', 'count']\n",
    "# aggfunc = ['mean']\n",
    "\n",
    "# alphas = ['k_alpha1', 'k_alpha2', 'k_alpha3', 'k_alpha4', 'k_alpha5']"
   ]
  },
  {
   "cell_type": "code",
   "execution_count": 29,
   "metadata": {},
   "outputs": [],
   "source": [
    "msg = df.pivot_table(index = pd.qcut(df['oc'],10,duplicates='drop'), values=rets, aggfunc=aggfunc)\n"
   ]
  },
  {
   "cell_type": "code",
   "execution_count": 32,
   "metadata": {},
   "outputs": [
    {
     "name": "stdout",
     "output_type": "stream",
     "text": [
      "                                         ret_1   ret_5  ret_10\n",
      "oc                             corr ->   -2.14   -3.06   -1.63 \n",
      "\n"
     ]
    }
   ],
   "source": [
    "print_corrs(df, ['oc'], rets)"
   ]
  },
  {
   "cell_type": "code",
   "execution_count": 30,
   "metadata": {},
   "outputs": [
    {
     "name": "stdout",
     "output_type": "stream",
     "text": [
      "                          mean                         median            \\\n",
      "                         ret_1    ret_10     ret_5      ret_1    ret_10   \n",
      "oc                                                                        \n",
      "(-3789.751, -88.742]  8.489002  1.555019  3.236612  11.627728  2.912970   \n",
      "(-88.742, -34.72]     3.314755  0.373831  0.610431  10.538232  2.087365   \n",
      "(-34.72, -16.97]     -1.577730  0.052066  0.340732   5.352195  0.699244   \n",
      "(-16.97, -6.7]        1.216617 -0.275579 -0.152445   4.337784  0.647217   \n",
      "(-6.7, 0.87]          0.966487  0.718529  1.127802   2.065284  0.752898   \n",
      "(0.87, 8.02]          1.167018  0.056051 -0.047834  -0.166155  0.246622   \n",
      "(8.02, 18.404]       -1.015978  0.082236  0.022152  -1.601571  0.133296   \n",
      "(18.404, 37.18]      -1.629010  0.887848  0.851168  -4.756511  0.338883   \n",
      "(37.18, 94.434]      -3.779703  0.247244 -0.901040  -9.243934 -0.187897   \n",
      "(94.434, 3973.88]     0.092878 -0.047475 -1.084638  -2.410298  0.534749   \n",
      "\n",
      "                               count               \n",
      "                         ret_5 ret_1 ret_10 ret_5  \n",
      "oc                                                 \n",
      "(-3789.751, -88.742]  3.580885  2976   2976  2976  \n",
      "(-88.742, -34.72]     3.218001  2975   2975  2975  \n",
      "(-34.72, -16.97]      1.220256  2975   2975  2975  \n",
      "(-16.97, -6.7]        1.410247  2976   2976  2976  \n",
      "(-6.7, 0.87]          1.026193  2977   2977  2977  \n",
      "(0.87, 8.02]          0.123079  2974   2974  2974  \n",
      "(8.02, 18.404]       -0.005252  2974   2974  2974  \n",
      "(18.404, 37.18]      -0.064408  2976   2976  2976  \n",
      "(37.18, 94.434]      -0.846250  2974   2974  2974  \n",
      "(94.434, 3973.88]    -0.500483  2976   2976  2976  \n"
     ]
    }
   ],
   "source": [
    "print(msg)"
   ]
  },
  {
   "cell_type": "code",
   "execution_count": 31,
   "metadata": {},
   "outputs": [
    {
     "name": "stdout",
     "output_type": "stream",
     "text": [
      "                      mean                        median                      \\\n",
      "                     ret_1    ret_10     ret_5     ret_1    ret_10     ret_5   \n",
      "Alpha                                                                          \n",
      "(-5.987, -2.24]   1.273004 -1.133195 -0.469645  7.066425  1.428727  2.771861   \n",
      "(-2.24, -1.298]   4.235403  0.989589  3.095704  5.982316  2.265757  2.766610   \n",
      "(-1.298, -0.72]   1.050310  0.259974  0.684186  4.912415  1.783830  2.770392   \n",
      "(-0.72, -0.314]   2.041433 -0.564930 -0.280760  3.414342  0.597823  1.499200   \n",
      "(-0.314, 0.0183]  2.192906  0.532381  0.203176  2.729709  0.486858  1.078914   \n",
      "(0.0183, 0.345]  -0.984555 -0.069876 -0.296261 -0.069190  0.119381  0.341567   \n",
      "(0.345, 0.743]   -4.201766  0.051577 -0.807117 -2.303657  0.145002  0.033021   \n",
      "(0.743, 1.305]   -3.621245 -0.239523 -1.922460 -3.847672 -0.273185 -1.866025   \n",
      "(1.305, 2.166]    1.176796  0.275310 -0.141966 -1.355300 -0.194873 -1.186120   \n",
      "(2.166, 6.209]    3.808318  3.200663  3.608252 -2.926505  0.715439  0.004711   \n",
      "\n",
      "                 count               \n",
      "                 ret_1 ret_10 ret_5  \n",
      "Alpha                                \n",
      "(-5.987, -2.24]   2974   2974  2974  \n",
      "(-2.24, -1.298]   2973   2973  2973  \n",
      "(-1.298, -0.72]   2973   2973  2973  \n",
      "(-0.72, -0.314]   2974   2974  2974  \n",
      "(-0.314, 0.0183]  2973   2973  2973  \n",
      "(0.0183, 0.345]   2973   2973  2973  \n",
      "(0.345, 0.743]    2974   2974  2974  \n",
      "(0.743, 1.305]    2973   2973  2973  \n",
      "(1.305, 2.166]    2973   2973  2973  \n",
      "(2.166, 6.209]    2974   2974  2974  \n"
     ]
    }
   ],
   "source": [
    "print_buckets(df, ['Alpha'], rets, aggfunc, 10)"
   ]
  },
  {
   "cell_type": "code",
   "execution_count": null,
   "metadata": {},
   "outputs": [],
   "source": []
  }
 ],
 "metadata": {
  "kernelspec": {
   "display_name": "Python 3",
   "language": "python",
   "name": "python3"
  },
  "language_info": {
   "codemirror_mode": {
    "name": "ipython",
    "version": 3
   },
   "file_extension": ".py",
   "mimetype": "text/x-python",
   "name": "python",
   "nbconvert_exporter": "python",
   "pygments_lexer": "ipython3",
   "version": "3.10.5"
  }
 },
 "nbformat": 4,
 "nbformat_minor": 2
}
