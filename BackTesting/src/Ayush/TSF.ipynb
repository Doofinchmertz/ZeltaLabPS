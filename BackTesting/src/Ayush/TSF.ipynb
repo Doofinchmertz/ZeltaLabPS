{
 "cells": [
  {
   "cell_type": "code",
   "execution_count": 9,
   "metadata": {},
   "outputs": [],
   "source": [
    "import pandas as pd\n",
    "import numpy as np\n",
    "import matplotlib.pyplot as plt\n",
    "import talib\n",
    "import warnings\n",
    "from sklearn.linear_model import LinearRegression\n",
    "from sklearn import metrics\n",
    "warnings.filterwarnings('ignore')"
   ]
  },
  {
   "cell_type": "code",
   "execution_count": 10,
   "metadata": {},
   "outputs": [],
   "source": [
    "df = pd.read_csv(r\"C:\\Users\\ayush\\Desktop\\IITB\\ZeltaLabPS\\BackTesting\\data\\data\\btcusdt_1h_train.csv\")\n"
   ]
  },
  {
   "cell_type": "code",
   "execution_count": 11,
   "metadata": {},
   "outputs": [],
   "source": [
    "upper_treshold= 0.7\n",
    "lower_treshold= 0.3\n",
    "period = 10\n",
    "exit = 10"
   ]
  },
  {
   "cell_type": "code",
   "execution_count": 12,
   "metadata": {},
   "outputs": [],
   "source": [
    "def print_buckets(df, alphas, rets = ['ret_10', 'ret_30', 'ret_60', 'ret_300', 'tick_10'], aggfunc = ['mean', 'median', 'count'], buckets = 10):\n",
    "# def print_buckets(df, alphas, rets = ['ret_10', 'ret_30', 'iv_10'], aggfunc = ['mean', 'median', 'count']):\n",
    "# def print_buckets(df, alphas, rets = ['tick_10', 'tick_30', 'tick_60', 'tick_300'], aggfunc = ['mean', 'median', 'count']):\n",
    "# def print_buckets(df, alphas, rets = ['ret_60', 'ret_300', 'iv_60'], aggfunc = ['mean', 'median', 'count']):\n",
    "    for alpha in alphas:\n",
    "        msg = df.pivot_table(index = pd.qcut(df[alpha],buckets,duplicates='drop'), values=rets, aggfunc=aggfunc)\n",
    "        print(msg)\n",
    "\n",
    "def print_corrs(df, alphas, rets = ['ret_10', 'ret_30', 'ret_60', 'ret_300']):\n",
    "# def print_corrs(df, alphas, rets = ['ret_10', 'ret_30', 'iv_10']):\n",
    "# def print_corrs(df, alphas, rets = ['tick_10', 'tick_30', 'tick_60', 'tick_300']):\n",
    "# def print_corrs(df, alphas, rets = ['ret_60', 'ret_300', 'iv_60']):\n",
    "    msg = \"                                      \"\n",
    "    for ret in rets:\n",
    "        msg += f\"{ret:>8s}\"\n",
    "    print(msg)\n",
    "    for alpha in alphas:\n",
    "        msg = f\"{alpha:30s} corr -> \"\n",
    "        for ret in rets:\n",
    "            msg += f\"{df[alpha].corr(df[ret])*100:7.2f} \"\n",
    "        print(msg)\n",
    "    print()"
   ]
  },
  {
   "cell_type": "code",
   "execution_count": 13,
   "metadata": {},
   "outputs": [],
   "source": [
    "def ret(df):\n",
    "    df['change_5'] = df['close'].rolling(window=5).mean().pct_change() * 1e4\n",
    "\n",
    "    df['ret_5'] = df['close'].shift(-5)\n",
    "    df['ret_1'] = df['close'].shift(-1)\n",
    "    df['ret_10'] = df['close'].shift(-10)\n",
    "    df['ret_30'] = df['close'].shift(-30)\n",
    "\n",
    "    df['ret_5'] = (df['ret_5'] - df['close']) / df['close'] * 1e4\n",
    "    df['ret_1'] = (df['ret_1'] - df['close']) / df['close'] * 1e4\n",
    "    df['ret_10'] = (df['ret_10'] - df['close']) / df['close'] * 1e4\n",
    "    df['ret_30'] = (df['ret_30'] - df['close']) / df['close'] * 1e4\n",
    "\n",
    "    df.head(10)\n",
    "    df = df.dropna()\n",
    "    df = df.reset_index(drop=True)\n",
    "    return df\n",
    "\n",
    "df = ret(df)\n"
   ]
  },
  {
   "cell_type": "code",
   "execution_count": 14,
   "metadata": {},
   "outputs": [],
   "source": [
    "df['TSF'] = talib.TSF(df['close'], timeperiod=10)\n",
    "df['tsl_al'] = df['TSF'] - df['close']"
   ]
  },
  {
   "cell_type": "code",
   "execution_count": 15,
   "metadata": {},
   "outputs": [
    {
     "name": "stdout",
     "output_type": "stream",
     "text": [
      "                         mean                                     median  \\\n",
      "                        ret_1     ret_10     ret_30     ret_5      ret_1   \n",
      "tsl_al                                                                     \n",
      "(-958.351, -64.224] -4.831039 -27.008692  -9.318469 -6.870861  -7.594808   \n",
      "(-64.224, -30.3]     1.706324  -6.779933  -0.480535  1.139614  -3.195014   \n",
      "(-30.3, -15.245]     0.900543   2.144495  -7.040569 -0.443395  -1.456664   \n",
      "(-15.245, -6.467]   -0.120137   4.377802   6.819444  5.420624  -1.337481   \n",
      "(-6.467, 0.264]      0.918758   1.165058  10.863037  0.476594   0.940856   \n",
      "(0.264, 6.895]      -0.089712   2.560186  19.540336 -0.344533   1.255156   \n",
      "(6.895, 15.941]      0.262105   7.072129   8.598153  3.603901   2.519950   \n",
      "(15.941, 30.748]    -0.588455   9.954893  22.964016  7.182623   2.788773   \n",
      "(30.748, 62.731]    -1.262804   4.075821   9.420891 -5.386094   2.655173   \n",
      "(62.731, 916.312]    5.628719  21.671910  -1.426129  5.569624  10.883774   \n",
      "\n",
      "                                                    count                      \n",
      "                        ret_10     ret_30     ret_5 ret_1 ret_10 ret_30 ret_5  \n",
      "tsl_al                                                                         \n",
      "(-958.351, -64.224]  -9.241009  15.536514 -6.644915  2232   2232   2232  2232  \n",
      "(-64.224, -30.3]     -2.774752   5.964029  2.411789  2231   2231   2231  2231  \n",
      "(-30.3, -15.245]      1.103864   3.881925  4.208800  2231   2231   2231  2231  \n",
      "(-15.245, -6.467]     5.723949  -3.928267  4.336610  2231   2231   2231  2231  \n",
      "(-6.467, 0.264]      -1.654250   7.565651  1.355205  2231   2231   2231  2231  \n",
      "(0.264, 6.895]        3.016065  11.326124  3.047589  2231   2231   2231  2231  \n",
      "(6.895, 15.941]       5.519256   9.216059  2.009258  2231   2231   2231  2231  \n",
      "(15.941, 30.748]      6.336112  15.573010  3.758350  2231   2231   2231  2231  \n",
      "(30.748, 62.731]      6.526884  -4.488379  1.480475  2231   2231   2231  2231  \n",
      "(62.731, 916.312]    23.209488  -7.648639  9.037795  2232   2232   2232  2232  \n"
     ]
    }
   ],
   "source": [
    "print_buckets(df, ['tsl_al'], rets = ['ret_10', 'ret_30', 'ret_1', 'ret_5'], aggfunc = ['mean', 'median', 'count'], buckets = 10)"
   ]
  },
  {
   "cell_type": "code",
   "execution_count": 16,
   "metadata": {},
   "outputs": [],
   "source": [
    "df['flag'] = df['TSF'].apply(lambda x: 1 if x > upper_treshold else (-1 if x < lower_treshold else 0))\n"
   ]
  },
  {
   "cell_type": "code",
   "execution_count": 19,
   "metadata": {},
   "outputs": [],
   "source": [
    "df['flag'] = df['TSF'].apply(lambda x: 1 if x > upper_treshold else (-1 if x < lower_treshold else 0))\n",
    "\n",
    "def generate_signals(df, flag_column, exit=exit):\n",
    "    compare = 0\n",
    "    counter = 0\n",
    "\n",
    "    signals = pd.Series(0, index=df.index, name='signal')\n",
    "\n",
    "    for i in range(len(df)):\n",
    "        if df[flag_column].iloc[i] == 1 and compare == 0:\n",
    "            # No open trade, encounter buy signal\n",
    "            compare = 1\n",
    "            signals.iloc[i] = 1\n",
    "\n",
    "        elif df[flag_column].iloc[i] == -1 and compare == 0:\n",
    "            # Current buy trade, encounter sell signal or no signal - update stop loss\n",
    "            signals.iloc[i] = -1\n",
    "            compare = -1\n",
    "\n",
    "        elif compare != 0:\n",
    "            if counter < exit:\n",
    "                if df[flag_column].iloc[i] == 0:\n",
    "                    counter += 1\n",
    "                else:\n",
    "                    if df[flag_column].iloc[i] == compare:\n",
    "                        counter = counter // 2\n",
    "                    else:\n",
    "                        counter = 0\n",
    "                        compare = 0\n",
    "                        signals.iloc[i] = df[flag_column].iloc[i]\n",
    "\n",
    "            else:\n",
    "                signals.iloc[i] = -1 * compare\n",
    "                counter = 0\n",
    "                compare = 0\n",
    "\n",
    "    df['signal'] = signals"
   ]
  },
  {
   "cell_type": "code",
   "execution_count": null,
   "metadata": {},
   "outputs": [],
   "source": []
  }
 ],
 "metadata": {
  "kernelspec": {
   "display_name": "Python 3",
   "language": "python",
   "name": "python3"
  },
  "language_info": {
   "codemirror_mode": {
    "name": "ipython",
    "version": 3
   },
   "file_extension": ".py",
   "mimetype": "text/x-python",
   "name": "python",
   "nbconvert_exporter": "python",
   "pygments_lexer": "ipython3",
   "version": "3.10.5"
  }
 },
 "nbformat": 4,
 "nbformat_minor": 2
}
