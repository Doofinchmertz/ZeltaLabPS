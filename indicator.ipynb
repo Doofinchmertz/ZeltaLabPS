{
 "cells": [
  {
   "cell_type": "markdown",
   "metadata": {},
   "source": [
    "## Importing the required Libraries"
   ]
  },
  {
   "cell_type": "code",
   "execution_count": 46,
   "metadata": {},
   "outputs": [],
   "source": [
    "import pandas as pd\n",
    "import io\n",
    "import os\n",
    "import numpy as np\n",
    "import seaborn as sns\n",
    "import statsmodels.api as sm\n",
    "from scipy.stats import kendalltau\n",
    "from scipy.stats import pearsonr, spearmanr, kendalltau\n",
    "import matplotlib.pyplot as plt\n",
    "from scipy.fft import fft\n",
    "from scipy.signal import hilbert\n",
    "from scipy.stats import skew, kurtosis\n",
    "import mplfinance as mpf\n",
    "from sklearn.gaussian_process import GaussianProcessRegressor\n",
    "from sklearn.gaussian_process.kernels import RBF, WhiteKernel, ConstantKernel\n",
    "from sklearn.model_selection import train_test_split\n",
    "import plotly.graph_objs as go\n",
    "import kaleido\n",
    "import talib\n",
    "import warnings\n",
    "warnings.simplefilter(\"ignore\")\n",
    "\n",
    "\n"
   ]
  },
  {
   "cell_type": "code",
   "execution_count": null,
   "metadata": {},
   "outputs": [],
   "source": [
    "df_3m = pd.read_csv('btcusdt_3m_train.csv')\n",
    "df_3m.rename(columns={'datetime': 'Date'}, inplace=True)\n",
    "df_3m['Date'] = pd.to_datetime(df_3m['Date'])\n",
    "df_3m = df_3m.drop('Unnamed: 0', axis=1) \n",
    "df_3m.set_index('Date', inplace=True)"
   ]
  },
  {
   "cell_type": "code",
   "execution_count": null,
   "metadata": {},
   "outputs": [],
   "source": [
    "df_5m = pd.read_csv('btcusdt_5m_train.csv')\n",
    "df_5m.rename(columns={'datetime': 'Date'}, inplace=True)\n",
    "df_5m['Date'] = pd.to_datetime(df_5m['Date'])\n",
    "df_5m = df_5m.drop('Unnamed: 0', axis=1) \n",
    "df_5m.set_index('Date', inplace=True)\n"
   ]
  },
  {
   "cell_type": "code",
   "execution_count": 26,
   "metadata": {},
   "outputs": [
    {
     "data": {
      "text/html": [
       "<div>\n",
       "<style scoped>\n",
       "    .dataframe tbody tr th:only-of-type {\n",
       "        vertical-align: middle;\n",
       "    }\n",
       "\n",
       "    .dataframe tbody tr th {\n",
       "        vertical-align: top;\n",
       "    }\n",
       "\n",
       "    .dataframe thead th {\n",
       "        text-align: right;\n",
       "    }\n",
       "</style>\n",
       "<table border=\"1\" class=\"dataframe\">\n",
       "  <thead>\n",
       "    <tr style=\"text-align: right;\">\n",
       "      <th></th>\n",
       "      <th>open</th>\n",
       "      <th>high</th>\n",
       "      <th>low</th>\n",
       "      <th>close</th>\n",
       "      <th>volume</th>\n",
       "    </tr>\n",
       "    <tr>\n",
       "      <th>Date</th>\n",
       "      <th></th>\n",
       "      <th></th>\n",
       "      <th></th>\n",
       "      <th></th>\n",
       "      <th></th>\n",
       "    </tr>\n",
       "  </thead>\n",
       "  <tbody>\n",
       "    <tr>\n",
       "      <th>2018-01-01 05:30:00</th>\n",
       "      <td>13715.65</td>\n",
       "      <td>13715.65</td>\n",
       "      <td>13400.01</td>\n",
       "      <td>13556.15</td>\n",
       "      <td>123.616013</td>\n",
       "    </tr>\n",
       "    <tr>\n",
       "      <th>2018-01-01 05:45:00</th>\n",
       "      <td>13533.75</td>\n",
       "      <td>13550.87</td>\n",
       "      <td>13402.00</td>\n",
       "      <td>13521.12</td>\n",
       "      <td>98.136430</td>\n",
       "    </tr>\n",
       "    <tr>\n",
       "      <th>2018-01-01 06:00:00</th>\n",
       "      <td>13500.00</td>\n",
       "      <td>13545.37</td>\n",
       "      <td>13450.00</td>\n",
       "      <td>13470.41</td>\n",
       "      <td>79.904037</td>\n",
       "    </tr>\n",
       "    <tr>\n",
       "      <th>2018-01-01 06:15:00</th>\n",
       "      <td>13494.65</td>\n",
       "      <td>13690.87</td>\n",
       "      <td>13450.00</td>\n",
       "      <td>13529.01</td>\n",
       "      <td>141.699719</td>\n",
       "    </tr>\n",
       "    <tr>\n",
       "      <th>2018-01-01 06:30:00</th>\n",
       "      <td>13528.99</td>\n",
       "      <td>13571.74</td>\n",
       "      <td>13402.28</td>\n",
       "      <td>13445.63</td>\n",
       "      <td>72.537533</td>\n",
       "    </tr>\n",
       "    <tr>\n",
       "      <th>...</th>\n",
       "      <td>...</td>\n",
       "      <td>...</td>\n",
       "      <td>...</td>\n",
       "      <td>...</td>\n",
       "      <td>...</td>\n",
       "    </tr>\n",
       "    <tr>\n",
       "      <th>2021-05-31 23:00:00</th>\n",
       "      <td>36869.99</td>\n",
       "      <td>36906.96</td>\n",
       "      <td>36673.41</td>\n",
       "      <td>36784.46</td>\n",
       "      <td>798.973804</td>\n",
       "    </tr>\n",
       "    <tr>\n",
       "      <th>2021-05-31 23:15:00</th>\n",
       "      <td>36782.96</td>\n",
       "      <td>36949.80</td>\n",
       "      <td>36707.33</td>\n",
       "      <td>36934.73</td>\n",
       "      <td>721.908787</td>\n",
       "    </tr>\n",
       "    <tr>\n",
       "      <th>2021-05-31 23:30:00</th>\n",
       "      <td>36935.81</td>\n",
       "      <td>36955.02</td>\n",
       "      <td>36750.46</td>\n",
       "      <td>36759.67</td>\n",
       "      <td>555.415983</td>\n",
       "    </tr>\n",
       "    <tr>\n",
       "      <th>2021-05-31 23:45:00</th>\n",
       "      <td>36759.89</td>\n",
       "      <td>36874.39</td>\n",
       "      <td>36677.37</td>\n",
       "      <td>36758.45</td>\n",
       "      <td>577.061267</td>\n",
       "    </tr>\n",
       "    <tr>\n",
       "      <th>2021-06-01 00:00:00</th>\n",
       "      <td>36758.45</td>\n",
       "      <td>36795.56</td>\n",
       "      <td>36629.53</td>\n",
       "      <td>36671.72</td>\n",
       "      <td>382.083699</td>\n",
       "    </tr>\n",
       "  </tbody>\n",
       "</table>\n",
       "<p>119190 rows × 5 columns</p>\n",
       "</div>"
      ],
      "text/plain": [
       "                         open      high       low     close      volume\n",
       "Date                                                                   \n",
       "2018-01-01 05:30:00  13715.65  13715.65  13400.01  13556.15  123.616013\n",
       "2018-01-01 05:45:00  13533.75  13550.87  13402.00  13521.12   98.136430\n",
       "2018-01-01 06:00:00  13500.00  13545.37  13450.00  13470.41   79.904037\n",
       "2018-01-01 06:15:00  13494.65  13690.87  13450.00  13529.01  141.699719\n",
       "2018-01-01 06:30:00  13528.99  13571.74  13402.28  13445.63   72.537533\n",
       "...                       ...       ...       ...       ...         ...\n",
       "2021-05-31 23:00:00  36869.99  36906.96  36673.41  36784.46  798.973804\n",
       "2021-05-31 23:15:00  36782.96  36949.80  36707.33  36934.73  721.908787\n",
       "2021-05-31 23:30:00  36935.81  36955.02  36750.46  36759.67  555.415983\n",
       "2021-05-31 23:45:00  36759.89  36874.39  36677.37  36758.45  577.061267\n",
       "2021-06-01 00:00:00  36758.45  36795.56  36629.53  36671.72  382.083699\n",
       "\n",
       "[119190 rows x 5 columns]"
      ]
     },
     "execution_count": 26,
     "metadata": {},
     "output_type": "execute_result"
    }
   ],
   "source": [
    "df_15m = pd.read_csv('btcusdt_15m_train.csv')\n",
    "df_15m.rename(columns={'datetime': 'Date'}, inplace=True)\n",
    "df_15m['Date'] = pd.to_datetime(df_15m['Date'])\n",
    "df_15m = df_15m.drop('Unnamed: 0', axis=1) \n",
    "df_15m.set_index('Date', inplace=True)\n",
    "df_15m"
   ]
  },
  {
   "cell_type": "code",
   "execution_count": null,
   "metadata": {},
   "outputs": [],
   "source": [
    "df_30m = pd.read_csv('btcusdt_30m_train.csv')\n",
    "df_30m.rename(columns={'datetime': 'Date'}, inplace=True)\n",
    "df_30m['Date'] = pd.to_datetime(df_30m['Date'])\n",
    "df_30m = df_30m.drop('Unnamed: 0', axis=1) \n",
    "df_30m.set_index('Date', inplace=True)"
   ]
  },
  {
   "cell_type": "code",
   "execution_count": 13,
   "metadata": {},
   "outputs": [],
   "source": [
    "df_1hr = pd.read_csv('btcusdt_1h_train.csv')\n",
    "df_1hr.rename(columns={'datetime': 'Date'}, inplace=True)\n",
    "df_1hr['Date'] = pd.to_datetime(df_1hr['Date'])\n",
    "df_1hr = df_1hr.drop('Unnamed: 0', axis=1) \n",
    "df_1hr.set_index('Date', inplace=True)"
   ]
  },
  {
   "cell_type": "code",
   "execution_count": null,
   "metadata": {},
   "outputs": [],
   "source": [
    "daily_df = df_1hr.resample('D').agg({'open': 'first', 'high': 'max', 'low': 'min', 'close': 'last', 'volume': 'sum'})\n",
    "\n",
    "daily_df"
   ]
  },
  {
   "cell_type": "markdown",
   "metadata": {},
   "source": [
    "## List of Indicators to test"
   ]
  },
  {
   "cell_type": "markdown",
   "metadata": {},
   "source": []
  },
  {
   "cell_type": "markdown",
   "metadata": {},
   "source": [
    "CCI"
   ]
  },
  {
   "cell_type": "code",
   "execution_count": 27,
   "metadata": {},
   "outputs": [],
   "source": [
    "df_cci_15m=df_15m.copy()"
   ]
  },
  {
   "cell_type": "code",
   "execution_count": 28,
   "metadata": {},
   "outputs": [],
   "source": [
    "df_cci_15m['Return_t+1'] = df_cci_15m['close'].shift(-1) / df_cci_15m['close'] - 1"
   ]
  },
  {
   "cell_type": "code",
   "execution_count": null,
   "metadata": {},
   "outputs": [],
   "source": [
    "df_cci_15m['TP'] = (df_cci_15m['high'] + df_cci_15m['low'] + df_cci_15m['close']) / 3\n",
    "df_cci_15m['TPMA'] = df_cci_15m['TP'].rolling(window=20).mean()\n",
    "\n",
    "def mean_deviation(series):\n",
    "    mean = series.mean()\n",
    "    return series.map(lambda x: abs(x - mean)).mean()\n",
    "\n",
    "df_cci_15m['MeanDev'] = df_cci_15m['TP'].rolling(window=20).apply(mean_deviation)\n",
    "df_cci_15m['CCI'] = (df_cci_15m['TP'] - df_cci_15m['TPMA']) / (df_cci_15m['MeanDev'] * 0.015)\n",
    "df_cci_15m.dropna()"
   ]
  },
  {
   "cell_type": "code",
   "execution_count": 30,
   "metadata": {},
   "outputs": [],
   "source": [
    "pearson_correlation = df_cci_15m['Return_t+1'].corr(df_cci_15m['CCI'], method='pearson')\n",
    "spearman_correlation = df_cci_15m['Return_t+1'].corr(df_cci_15m['CCI'], method='spearman')\n",
    "kendall_correlation = df_cci_15m['Return_t+1'].corr(df_cci_15m['CCI'], method='kendall')"
   ]
  },
  {
   "cell_type": "code",
   "execution_count": 32,
   "metadata": {},
   "outputs": [
    {
     "name": "stdout",
     "output_type": "stream",
     "text": [
      "pearson_correlation -0.20515667929865747\n",
      "spearman_correlation -5.695783959697842\n",
      "kendall_correlation -3.939327444634303\n"
     ]
    }
   ],
   "source": [
    "print(f'pearson_correlation {pearson_correlation*100}')\n",
    "print(f'spearman_correlation {spearman_correlation*100}')\n",
    "print(f'kendall_correlation {kendall_correlation*100}')"
   ]
  },
  {
   "cell_type": "code",
   "execution_count": 48,
   "metadata": {},
   "outputs": [],
   "source": [
    "def calculate_ic_and_correlations_df(df, frequency='15T'):\n",
    "    \"\"\"\n",
    "    Calculates the Information Coefficient (IC) and correlation coefficients (Pearson, Spearman, Kendall)\n",
    "    between alpha values and next day returns using a single dataframe that includes both OHLCV data and alpha values.\n",
    "\n",
    "    :param df: DataFrame containing the OHLCV data and alpha values\n",
    "    :param frequency: The frequency of the data ('5T' for 5 minutes, '15T' for 15 minutes, etc.)\n",
    "    :return: Prints the IC and correlation coefficients with 3 decimal points and as percentages\n",
    "    \"\"\"\n",
    "    # Calculate the number of periods in one day\n",
    "    periods_per_day = pd.Timedelta('1D') // pd.Timedelta(frequency)\n",
    "\n",
    "    # Calculate next day returns\n",
    "    df['next_day_return'] = df['close'].shift(-periods_per_day) / df['close'] - 1\n",
    "\n",
    "    # Drop the rows with NaN values that occur due to shifting\n",
    "    df.dropna(subset=['next_day_return', 'alpha'], inplace=True)\n",
    "\n",
    "    # Calculate correlations\n",
    "    pearson_corr = df['alpha'].corr(df['next_day_return'], method='pearson')\n",
    "    spearman_corr = df['alpha'].corr(df['next_day_return'], method='spearman')\n",
    "    kendall_corr = df['alpha'].corr(df['next_day_return'], method='kendall')\n",
    "\n",
    "    # Calculate Information Coefficient (IC) as the mean of daily Pearson correlations\n",
    "    # Group by date to consider the high frequency data as daily data\n",
    "    daily_corrs = df.groupby(df.index.date).apply(\n",
    "        lambda x: x['alpha'].corr(x['next_day_return'], method='pearson'))\n",
    "    ic = daily_corrs.mean()\n",
    "\n",
    "    # Output the results with 3 decimal points and as percentages\n",
    "    print(f'Information Coefficient (IC): {ic:.3f}')\n",
    "    print(f'Pearson Correlation (%): {pearson_corr*100:.3f}%')\n",
    "    print(f'Spearman Correlation (%): {spearman_corr*100:.3f}%')\n",
    "    print(f'Kendall Correlation (%): {kendall_corr*100:.3f}%')\n",
    "\n",
    "# Assuming df is the DataFrame containing the ohlcv values and alpha values respectively\n",
    "# The index of the dataframe should be datetime objects that align\n",
    "# You would call the function as follows:\n",
    "# calculate_ic_and_correlations_df(df, '15T')  # Replace '15T' with the actual frequency of your data\n",
    "\n"
   ]
  },
  {
   "cell_type": "code",
   "execution_count": 76,
   "metadata": {},
   "outputs": [
    {
     "name": "stdout",
     "output_type": "stream",
     "text": [
      "Information Coefficient (IC): -0.068\n",
      "Pearson Correlation (%): 0.931%\n",
      "Spearman Correlation (%): 0.111%\n",
      "Kendall Correlation (%): 0.069%\n"
     ]
    }
   ],
   "source": [
    "df_alp1=df_15m.copy()\n",
    "df_alp1['alpha'] = np.maximum(\n",
    "(df_alp1['low'] / df_alp1['open']) * (df_alp1['high'] / df_alp1['close']),\n",
    "        np.cos(np.minimum(df_alp1['close'], df_alp1['open']))\n",
    "    )\n",
    "calculate_ic_and_correlations_df(df_alp1)"
   ]
  },
  {
   "cell_type": "code",
   "execution_count": 77,
   "metadata": {},
   "outputs": [
    {
     "name": "stdout",
     "output_type": "stream",
     "text": [
      "Information Coefficient (IC): -0.090\n",
      "Pearson Correlation (%): 0.197%\n",
      "Spearman Correlation (%): -0.488%\n",
      "Kendall Correlation (%): -0.328%\n"
     ]
    }
   ],
   "source": [
    "df_alp101=df_15m.copy()\n",
    "df_alp101['alpha'] = (df_alp101['close']-df_alp101['open'])/(df_alp101['high']-df_alp101['low'])\n",
    "calculate_ic_and_correlations_df(df_alp101)"
   ]
  },
  {
   "cell_type": "code",
   "execution_count": 78,
   "metadata": {},
   "outputs": [
    {
     "name": "stdout",
     "output_type": "stream",
     "text": [
      "Information Coefficient (IC): -0.652\n",
      "Pearson Correlation (%): -0.723%\n",
      "Spearman Correlation (%): -0.447%\n",
      "Kendall Correlation (%): -0.369%\n"
     ]
    }
   ],
   "source": [
    "def calculate_vwap(df):\n",
    "    vwap = (df['volume'] * (df['high'] + df['low'] + df['close']) / 3).cumsum() / df['volume'].cumsum()\n",
    "    return vwap\n",
    "\n",
    "# Function to calculate Alpha#41\n",
    "def calculate_alpha_41(df):\n",
    "\n",
    "    df['VWAP'] = calculate_vwap(df)\n",
    "    df['alpha'] = np.sqrt(df['high'] * df['low'] - df['VWAP'])\n",
    "    return df\n",
    "\n",
    "df_alp41=df_15m.copy()\n",
    "df_alp41=calculate_alpha_41(df_alp41)\n",
    "calculate_ic_and_correlations_df(df_alp41)"
   ]
  },
  {
   "cell_type": "code",
   "execution_count": 91,
   "metadata": {},
   "outputs": [
    {
     "name": "stdout",
     "output_type": "stream",
     "text": [
      "Information Coefficient (IC): 0.064\n",
      "Pearson Correlation (%): -1.232%\n",
      "Spearman Correlation (%): -0.189%\n",
      "Kendall Correlation (%): -0.084%\n"
     ]
    }
   ],
   "source": [
    "df_alp2=df_15m.copy()\n",
    "df_alp2['Previous Close'] = df_alp2['close'].shift(1)\n",
    "df_alp2['Return'] = (df_alp2['close'] - df_alp2['Previous Close']) / df_alp2['Previous Close']\n",
    "df_alp2['alpha'] = ((df_alp2['low'] / df_alp2['close']) - df_alp2['Return']) +((df_alp2['low'] / df_alp2['close']) * np.cos(df_alp2['Return']))\n",
    "calculate_ic_and_correlations_df(df_alp2)\n"
   ]
  },
  {
   "cell_type": "code",
   "execution_count": 80,
   "metadata": {},
   "outputs": [
    {
     "name": "stdout",
     "output_type": "stream",
     "text": [
      "Information Coefficient (IC): -0.001\n",
      "Pearson Correlation (%): -1.308%\n",
      "Spearman Correlation (%): -0.715%\n",
      "Kendall Correlation (%): -0.584%\n"
     ]
    }
   ],
   "source": [
    "df_alp3=df_15m.copy()\n",
    "df_alp3['alpha'] = np.minimum(0.938,df_alp3['low'] / df_alp3['close'])\n",
    "calculate_ic_and_correlations_df(df_alp3)"
   ]
  },
  {
   "cell_type": "code",
   "execution_count": 85,
   "metadata": {},
   "outputs": [
    {
     "name": "stdout",
     "output_type": "stream",
     "text": [
      "Information Coefficient (IC): -0.067\n",
      "Pearson Correlation (%): 0.800%\n",
      "Spearman Correlation (%): 0.085%\n",
      "Kendall Correlation (%): 0.043%\n"
     ]
    }
   ],
   "source": [
    "df_alp4=df_15m.copy()\n",
    "df_alp4['alpha'] = np.minimum(df_alp4['low'] - df_alp4['open'], 0.133) + np.maximum(np.cos(df_alp4['volume']), df_alp4['high'] - df_alp4['close'])\n",
    "calculate_ic_and_correlations_df(df_alp4)\n"
   ]
  },
  {
   "cell_type": "code",
   "execution_count": 73,
   "metadata": {},
   "outputs": [
    {
     "name": "stdout",
     "output_type": "stream",
     "text": [
      "Information Coefficient (IC): 0.006\n",
      "Pearson Correlation (%): -1.476%\n",
      "Spearman Correlation (%): -1.031%\n",
      "Kendall Correlation (%): -0.654%\n"
     ]
    }
   ],
   "source": [
    "df_alp5=df_15m.copy()\n",
    "df_alp5['alpha'] = np.maximum(np.minimum(df_alp5['low'] - df_alp5['open'], 0.133),(df_alp5['low'] - df_alp5['close']) / np.sqrt(df_alp5['high']))\n",
    "calculate_ic_and_correlations_df(df_alp5)"
   ]
  },
  {
   "cell_type": "code",
   "execution_count": 75,
   "metadata": {},
   "outputs": [
    {
     "name": "stdout",
     "output_type": "stream",
     "text": [
      "Information Coefficient (IC): 0.082\n",
      "Pearson Correlation (%): 4.081%\n",
      "Spearman Correlation (%): 1.656%\n",
      "Kendall Correlation (%): 1.107%\n"
     ]
    }
   ],
   "source": [
    "df_alp6=df_15m.copy()\n",
    "df_alp6['Previous Close'] = df_alp6['close'].shift(1)\n",
    "df_alp6['Return'] = (df_alp6['close'] - df_alp6['Previous Close']) / df_alp6['Previous Close']\n",
    "df_alp6['alpha'] = ((df_alp6['high'] - df_alp6['close']) - df_alp6['Return'])/((df_alp6['low'] + df_alp6['Return']) + (-0.177 / df_alp6['close']))\n",
    "calculate_ic_and_correlations_df(df_alp6)"
   ]
  },
  {
   "cell_type": "code",
   "execution_count": 72,
   "metadata": {},
   "outputs": [
    {
     "name": "stdout",
     "output_type": "stream",
     "text": [
      "Information Coefficient (IC): 0.025\n",
      "Pearson Correlation (%): 2.606%\n",
      "Spearman Correlation (%): 0.670%\n",
      "Kendall Correlation (%): 0.467%\n"
     ]
    }
   ],
   "source": [
    "df_alp7=df_15m.copy()\n",
    "df_alp7['Previous Close'] = df_alp7['close'].shift(1)\n",
    "df_alp7['Return'] = (df_alp7['close'] - df_alp7['Previous Close']) / df_alp7['Previous Close']\n",
    "\n",
    "df_alp7['alpha'] =np.maximum((df_alp7['high'] / df_alp7['close']) - df_alp7['Return'].abs(),\n",
    "                             np.minimum(df_alp7['low'] / df_alp7['open'], df_alp7['high'] / df_alp7['close']))\n",
    "calculate_ic_and_correlations_df(df_alp7)"
   ]
  },
  {
   "cell_type": "code",
   "execution_count": 83,
   "metadata": {},
   "outputs": [
    {
     "name": "stdout",
     "output_type": "stream",
     "text": [
      "Information Coefficient (IC): 0.016\n",
      "Pearson Correlation (%): -2.231%\n",
      "Spearman Correlation (%): -0.980%\n",
      "Kendall Correlation (%): -0.626%\n"
     ]
    }
   ],
   "source": [
    "df_alp8=df_15m.copy()\n",
    "df_alp8['alpha'] =0.386/df_alp8['low'] + df_alp8['low']/df_alp8['close']\n",
    "calculate_ic_and_correlations_df(df_alp8)"
   ]
  },
  {
   "cell_type": "code",
   "execution_count": 87,
   "metadata": {},
   "outputs": [
    {
     "name": "stdout",
     "output_type": "stream",
     "text": [
      "Information Coefficient (IC): 0.055\n",
      "Pearson Correlation (%): -0.031%\n",
      "Spearman Correlation (%): 0.511%\n",
      "Kendall Correlation (%): 0.340%\n"
     ]
    }
   ],
   "source": [
    "df_alp54=df_15m.copy()\n",
    "df_alp54['alpha'] =(-1)*(df_alp54['low']-df_alp54['close'])*((df_alp54['open']/df_alp54['close'])**5)/(df_alp54['low']-df_alp54['high'])\n",
    "calculate_ic_and_correlations_df(df_alp54)"
   ]
  },
  {
   "cell_type": "code",
   "execution_count": 92,
   "metadata": {},
   "outputs": [
    {
     "name": "stdout",
     "output_type": "stream",
     "text": [
      "Information Coefficient (IC): -0.090\n",
      "Pearson Correlation (%): 0.197%\n",
      "Spearman Correlation (%): -0.488%\n",
      "Kendall Correlation (%): -0.328%\n"
     ]
    }
   ],
   "source": [
    "df_alp9=df_15m.copy()\n",
    "df_alp9['alpha'] = (df_alp9['close']-df_alp9['open'])/(df_alp9['high']-df_alp9['low'])+0.001\n",
    "calculate_ic_and_correlations_df(df_alp9)"
   ]
  },
  {
   "cell_type": "code",
   "execution_count": 88,
   "metadata": {},
   "outputs": [
    {
     "name": "stdout",
     "output_type": "stream",
     "text": [
      "Information Coefficient (IC): 0.100\n",
      "Pearson Correlation (%): -0.007%\n",
      "Spearman Correlation (%): 0.371%\n",
      "Kendall Correlation (%): 0.280%\n"
     ]
    }
   ],
   "source": [
    "def delta(series, period):\n",
    "    return series.diff(period)\n",
    "\n",
    "# Define sign function\n",
    "def sign(series):\n",
    "    return series.apply(np.sign)\n",
    "\n",
    "# Define correlation function\n",
    "def correlation(series1, series2, period):\n",
    "    return series1.rolling(window=period).corr(series2)\n",
    "\n",
    "\n",
    "# Alpha#12: (sign(delta(volume, 1)) * (-1 * delta(close, 1)))\n",
    "df_alp12=df_15m.copy()\n",
    "df_alp12['alpha'] = sign(delta(df_alp12['volume'], 1)) * (-1 * delta(df_15m['close'], 1))\n",
    "calculate_ic_and_correlations_df(df_alp12)"
   ]
  },
  {
   "cell_type": "code",
   "execution_count": 89,
   "metadata": {},
   "outputs": [
    {
     "name": "stdout",
     "output_type": "stream",
     "text": [
      "Information Coefficient (IC): 0.174\n",
      "Pearson Correlation (%): -1.703%\n",
      "Spearman Correlation (%): 0.707%\n",
      "Kendall Correlation (%): 0.485%\n"
     ]
    }
   ],
   "source": [
    "# Alpha#13/6: (-1 * correlation(open, volume, 10))\n",
    "df_alp13=df_15m.copy()\n",
    "df_alp13['alpha'] = -1 * correlation(df_alp13['open'], df_alp13['volume'], 10)\n",
    "calculate_ic_and_correlations_df(df_alp13)\n"
   ]
  },
  {
   "cell_type": "code",
   "execution_count": null,
   "metadata": {},
   "outputs": [],
   "source": []
  },
  {
   "cell_type": "code",
   "execution_count": null,
   "metadata": {},
   "outputs": [],
   "source": []
  },
  {
   "cell_type": "code",
   "execution_count": null,
   "metadata": {},
   "outputs": [],
   "source": []
  },
  {
   "cell_type": "code",
   "execution_count": 57,
   "metadata": {},
   "outputs": [],
   "source": [
    "window_sizes = range(5, 101)  \n",
    "df_1hr['fpc'] = df_1hr['close'].shift(-1) - df_1hr['close']\n",
    "\n",
    "pearson_correlations = {}\n",
    "spearman_correlations = {}\n",
    "kendall_correlations = {}\n",
    "\n",
    "for window in window_sizes:\n",
    "    df_1hr[f'ema_{window}'] = df_1hr['close'].ewm(span=window, adjust=False).mean()\n",
    "    df_1hr[f'ema_change_{window}'] = df_1hr[f'ema_{window}'].diff()\n",
    "\n",
    "    pearson_correlation = df_1hr[f'ema_change_{window}'].corr(df_1hr['fpc'], method='pearson')\n",
    "    spearman_correlation = df_1hr[f'ema_change_{window}'].corr(df_1hr['fpc'], method='spearman')\n",
    "    kendall_correlation = df_1hr[f'ema_change_{window}'].corr(df_1hr['fpc'], method='kendall')\n",
    "\n",
    "    pearson_correlations[window] = pearson_correlation\n",
    "    spearman_correlations[window] = spearman_correlation\n",
    "    kendall_correlations[window] = kendall_correlation\n",
    "\n"
   ]
  },
  {
   "cell_type": "code",
   "execution_count": 59,
   "metadata": {},
   "outputs": [
    {
     "name": "stdout",
     "output_type": "stream",
     "text": [
      "Optimal TRIMA window size for Pearson: 5, Maximum Correlation: -0.0354255402810652\n",
      "Optimal TRIMA window size for Spearman: 5, Maximum Correlation: -0.07945392030641331\n",
      "Optimal TRIMA window size for Kendall: 5, Maximum Correlation: -0.06545836261560696\n"
     ]
    }
   ],
   "source": [
    "optimal_window_pearson = max(pearson_correlations, key=lambda x: abs(pearson_correlations[x]))\n",
    "optimal_window_spearman = max(spearman_correlations, key=lambda x: abs(spearman_correlations[x]))\n",
    "optimal_window_kendall = max(kendall_correlations, key=lambda x: abs(kendall_correlations[x]))\n",
    "print(f\"Optimal TRIMA window size for Pearson: {optimal_window_pearson}, Maximum Correlation: {pearson_correlations[optimal_window_pearson]}\")\n",
    "print(f\"Optimal TRIMA window size for Spearman: {optimal_window_spearman}, Maximum Correlation: {spearman_correlations[optimal_window_spearman]}\")\n",
    "print(f\"Optimal TRIMA window size for Kendall: {optimal_window_kendall}, Maximum Correlation: {kendall_correlations[optimal_window_kendall]}\")"
   ]
  }
 ],
 "metadata": {
  "kernelspec": {
   "display_name": "Python 3",
   "language": "python",
   "name": "python3"
  },
  "language_info": {
   "codemirror_mode": {
    "name": "ipython",
    "version": 3
   },
   "file_extension": ".py",
   "mimetype": "text/x-python",
   "name": "python",
   "nbconvert_exporter": "python",
   "pygments_lexer": "ipython3",
   "version": "3.11.5"
  },
  "orig_nbformat": 4
 },
 "nbformat": 4,
 "nbformat_minor": 2
}
