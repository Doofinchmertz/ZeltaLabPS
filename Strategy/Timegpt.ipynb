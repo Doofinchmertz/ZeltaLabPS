{
 "cells": [
  {
   "cell_type": "code",
   "execution_count": 2,
   "id": "fd7936cf",
   "metadata": {
    "scrolled": true
   },
   "outputs": [
    {
     "name": "stdout",
     "output_type": "stream",
     "text": [
      "Collecting neuralforecast\n",
      "  Downloading neuralforecast-1.6.4-py3-none-any.whl (170 kB)\n",
      "Collecting pytorch-lightning>=2.0.0\n",
      "  Downloading pytorch_lightning-2.1.2-py3-none-any.whl (776 kB)\n",
      "Collecting optuna\n",
      "  Downloading optuna-3.4.0-py3-none-any.whl (409 kB)\n",
      "Requirement already satisfied: numpy>=1.21.6 in c:\\users\\yashc\\anaconda3\\lib\\site-packages (from neuralforecast) (1.26.2)\n",
      "Collecting torch>=2.0.0\n",
      "  Downloading torch-2.1.1-cp39-cp39-win_amd64.whl (192.2 MB)\n",
      "Requirement already satisfied: numba in c:\\users\\yashc\\anaconda3\\lib\\site-packages (from neuralforecast) (0.54.1)\n",
      "Collecting utilsforecast>=0.0.6\n",
      "  Downloading utilsforecast-0.0.17-py3-none-any.whl (34 kB)\n",
      "Collecting ray[tune]>=2.2.0\n",
      "  Downloading ray-2.8.0-cp39-cp39-win_amd64.whl (24.4 MB)\n",
      "Collecting pandas>=1.3.5\n",
      "  Downloading pandas-2.1.3-cp39-cp39-win_amd64.whl (10.8 MB)\n",
      "Requirement already satisfied: pytz>=2020.1 in c:\\users\\yashc\\anaconda3\\lib\\site-packages (from pandas>=1.3.5->neuralforecast) (2021.3)\n",
      "Requirement already satisfied: python-dateutil>=2.8.2 in c:\\users\\yashc\\anaconda3\\lib\\site-packages (from pandas>=1.3.5->neuralforecast) (2.8.2)\n",
      "Collecting tzdata>=2022.1\n",
      "  Using cached tzdata-2023.3-py2.py3-none-any.whl (341 kB)\n",
      "Requirement already satisfied: six>=1.5 in c:\\users\\yashc\\anaconda3\\lib\\site-packages (from python-dateutil>=2.8.2->pandas>=1.3.5->neuralforecast) (1.16.0)\n",
      "Requirement already satisfied: PyYAML>=5.4 in c:\\users\\yashc\\anaconda3\\lib\\site-packages (from pytorch-lightning>=2.0.0->neuralforecast) (6.0)\n",
      "Collecting lightning-utilities>=0.8.0\n",
      "  Downloading lightning_utilities-0.10.0-py3-none-any.whl (24 kB)\n",
      "Requirement already satisfied: typing-extensions>=4.0.0 in c:\\users\\yashc\\anaconda3\\lib\\site-packages (from pytorch-lightning>=2.0.0->neuralforecast) (4.4.0)\n",
      "Requirement already satisfied: fsspec[http]>2021.06.0 in c:\\users\\yashc\\anaconda3\\lib\\site-packages (from pytorch-lightning>=2.0.0->neuralforecast) (2023.1.0)\n",
      "Requirement already satisfied: tqdm>=4.57.0 in c:\\users\\yashc\\anaconda3\\lib\\site-packages (from pytorch-lightning>=2.0.0->neuralforecast) (4.62.3)\n",
      "Collecting torchmetrics>=0.7.0\n",
      "  Downloading torchmetrics-1.2.0-py3-none-any.whl (805 kB)\n",
      "Requirement already satisfied: packaging>=20.0 in c:\\users\\yashc\\anaconda3\\lib\\site-packages (from pytorch-lightning>=2.0.0->neuralforecast) (21.0)\n",
      "Requirement already satisfied: aiohttp!=4.0.0a0,!=4.0.0a1 in c:\\users\\yashc\\anaconda3\\lib\\site-packages (from fsspec[http]>2021.06.0->pytorch-lightning>=2.0.0->neuralforecast) (3.8.3)\n",
      "Requirement already satisfied: requests in c:\\users\\yashc\\anaconda3\\lib\\site-packages (from fsspec[http]>2021.06.0->pytorch-lightning>=2.0.0->neuralforecast) (2.26.0)\n",
      "Requirement already satisfied: charset-normalizer<3.0,>=2.0 in c:\\users\\yashc\\anaconda3\\lib\\site-packages (from aiohttp!=4.0.0a0,!=4.0.0a1->fsspec[http]>2021.06.0->pytorch-lightning>=2.0.0->neuralforecast) (2.0.4)\n",
      "Requirement already satisfied: attrs>=17.3.0 in c:\\users\\yashc\\anaconda3\\lib\\site-packages (from aiohttp!=4.0.0a0,!=4.0.0a1->fsspec[http]>2021.06.0->pytorch-lightning>=2.0.0->neuralforecast) (21.2.0)\n",
      "Requirement already satisfied: multidict<7.0,>=4.5 in c:\\users\\yashc\\anaconda3\\lib\\site-packages (from aiohttp!=4.0.0a0,!=4.0.0a1->fsspec[http]>2021.06.0->pytorch-lightning>=2.0.0->neuralforecast) (6.0.4)\n",
      "Requirement already satisfied: frozenlist>=1.1.1 in c:\\users\\yashc\\anaconda3\\lib\\site-packages (from aiohttp!=4.0.0a0,!=4.0.0a1->fsspec[http]>2021.06.0->pytorch-lightning>=2.0.0->neuralforecast) (1.3.3)\n",
      "Requirement already satisfied: aiosignal>=1.1.2 in c:\\users\\yashc\\anaconda3\\lib\\site-packages (from aiohttp!=4.0.0a0,!=4.0.0a1->fsspec[http]>2021.06.0->pytorch-lightning>=2.0.0->neuralforecast) (1.3.1)\n",
      "Requirement already satisfied: async-timeout<5.0,>=4.0.0a3 in c:\\users\\yashc\\anaconda3\\lib\\site-packages (from aiohttp!=4.0.0a0,!=4.0.0a1->fsspec[http]>2021.06.0->pytorch-lightning>=2.0.0->neuralforecast) (4.0.2)\n",
      "Requirement already satisfied: yarl<2.0,>=1.0 in c:\\users\\yashc\\anaconda3\\lib\\site-packages (from aiohttp!=4.0.0a0,!=4.0.0a1->fsspec[http]>2021.06.0->pytorch-lightning>=2.0.0->neuralforecast) (1.8.2)\n",
      "Requirement already satisfied: setuptools in c:\\users\\yashc\\anaconda3\\lib\\site-packages (from lightning-utilities>=0.8.0->pytorch-lightning>=2.0.0->neuralforecast) (58.0.4)\n",
      "Requirement already satisfied: pyparsing>=2.0.2 in c:\\users\\yashc\\anaconda3\\lib\\site-packages (from packaging>=20.0->pytorch-lightning>=2.0.0->neuralforecast) (3.0.9)\n",
      "Requirement already satisfied: jsonschema in c:\\users\\yashc\\anaconda3\\lib\\site-packages (from ray[tune]>=2.2.0->neuralforecast) (3.2.0)\n",
      "Requirement already satisfied: msgpack<2.0.0,>=1.0.0 in c:\\users\\yashc\\anaconda3\\lib\\site-packages (from ray[tune]>=2.2.0->neuralforecast) (1.0.2)\n",
      "Requirement already satisfied: click>=7.0 in c:\\users\\yashc\\anaconda3\\lib\\site-packages (from ray[tune]>=2.2.0->neuralforecast) (8.0.3)\n",
      "Requirement already satisfied: protobuf!=3.19.5,>=3.15.3 in c:\\users\\yashc\\appdata\\roaming\\python\\python39\\site-packages (from ray[tune]>=2.2.0->neuralforecast) (3.19.1)\n",
      "Requirement already satisfied: filelock in c:\\users\\yashc\\anaconda3\\lib\\site-packages (from ray[tune]>=2.2.0->neuralforecast) (3.3.1)\n",
      "Collecting pyarrow<7.0.0,>=6.0.1\n",
      "  Downloading pyarrow-6.0.1-cp39-cp39-win_amd64.whl (15.5 MB)\n",
      "Collecting tensorboardX>=1.9\n",
      "  Downloading tensorboardX-2.6.2.2-py2.py3-none-any.whl (101 kB)\n",
      "Requirement already satisfied: colorama in c:\\users\\yashc\\anaconda3\\lib\\site-packages (from click>=7.0->ray[tune]>=2.2.0->neuralforecast) (0.4.6)\n",
      "Collecting protobuf!=3.19.5,>=3.15.3\n",
      "  Downloading protobuf-4.25.1-cp39-cp39-win_amd64.whl (413 kB)\n",
      "Requirement already satisfied: networkx in c:\\users\\yashc\\anaconda3\\lib\\site-packages (from torch>=2.0.0->neuralforecast) (2.6.3)\n",
      "Requirement already satisfied: jinja2 in c:\\users\\yashc\\anaconda3\\lib\\site-packages (from torch>=2.0.0->neuralforecast) (2.11.3)\n",
      "Requirement already satisfied: sympy in c:\\users\\yashc\\anaconda3\\lib\\site-packages (from torch>=2.0.0->neuralforecast) (1.9)\n",
      "Requirement already satisfied: idna>=2.0 in c:\\users\\yashc\\anaconda3\\lib\\site-packages (from yarl<2.0,>=1.0->aiohttp!=4.0.0a0,!=4.0.0a1->fsspec[http]>2021.06.0->pytorch-lightning>=2.0.0->neuralforecast) (3.2)\n",
      "Requirement already satisfied: MarkupSafe>=0.23 in c:\\users\\yashc\\anaconda3\\lib\\site-packages (from jinja2->torch>=2.0.0->neuralforecast) (1.1.1)\n",
      "Requirement already satisfied: pyrsistent>=0.14.0 in c:\\users\\yashc\\anaconda3\\lib\\site-packages (from jsonschema->ray[tune]>=2.2.0->neuralforecast) (0.18.0)\n",
      "Requirement already satisfied: llvmlite<0.38,>=0.37.0rc1 in c:\\users\\yashc\\anaconda3\\lib\\site-packages (from numba->neuralforecast) (0.37.0)\n",
      "Collecting numba\n",
      "  Downloading numba-0.58.1-cp39-cp39-win_amd64.whl (2.6 MB)\n",
      "Collecting llvmlite<0.42,>=0.41.0dev0\n",
      "  Downloading llvmlite-0.41.1-cp39-cp39-win_amd64.whl (28.1 MB)\n",
      "Collecting colorlog\n",
      "  Using cached colorlog-6.7.0-py2.py3-none-any.whl (11 kB)\n",
      "Collecting alembic>=1.5.0\n",
      "  Downloading alembic-1.12.1-py3-none-any.whl (226 kB)\n",
      "Requirement already satisfied: sqlalchemy>=1.3.0 in c:\\users\\yashc\\anaconda3\\lib\\site-packages (from optuna->neuralforecast) (1.4.22)\n",
      "Collecting Mako\n",
      "  Downloading Mako-1.3.0-py3-none-any.whl (78 kB)\n",
      "Requirement already satisfied: greenlet!=0.4.17 in c:\\users\\yashc\\anaconda3\\lib\\site-packages (from sqlalchemy>=1.3.0->optuna->neuralforecast) (1.1.1)\n",
      "Requirement already satisfied: certifi>=2017.4.17 in c:\\users\\yashc\\anaconda3\\lib\\site-packages (from requests->fsspec[http]>2021.06.0->pytorch-lightning>=2.0.0->neuralforecast) (2021.10.8)\n",
      "Requirement already satisfied: urllib3<1.27,>=1.21.1 in c:\\users\\yashc\\anaconda3\\lib\\site-packages (from requests->fsspec[http]>2021.06.0->pytorch-lightning>=2.0.0->neuralforecast) (1.26.13)\n",
      "Requirement already satisfied: mpmath>=0.19 in c:\\users\\yashc\\anaconda3\\lib\\site-packages (from sympy->torch>=2.0.0->neuralforecast) (1.2.1)\n",
      "Installing collected packages: tzdata, torch, protobuf, Mako, lightning-utilities, torchmetrics, tensorboardX, ray, pyarrow, pandas, llvmlite, colorlog, alembic, utilsforecast, pytorch-lightning, optuna, numba, neuralforecast\n",
      "  Attempting uninstall: torch\n",
      "    Found existing installation: torch 1.13.0\n",
      "    Uninstalling torch-1.13.0:\n",
      "      Successfully uninstalled torch-1.13.0\n",
      "  Attempting uninstall: protobuf\n",
      "    Found existing installation: protobuf 3.19.1\n",
      "    Uninstalling protobuf-3.19.1:\n",
      "      Successfully uninstalled protobuf-3.19.1\n",
      "  Attempting uninstall: pyarrow\n",
      "    Found existing installation: pyarrow 10.0.1\n",
      "    Uninstalling pyarrow-10.0.1:\n",
      "      Successfully uninstalled pyarrow-10.0.1\n"
     ]
    },
    {
     "name": "stderr",
     "output_type": "stream",
     "text": [
      "ERROR: Could not install packages due to an OSError: [WinError 5] Access is denied: 'C:\\\\Users\\\\yashc\\\\anaconda3\\\\Lib\\\\site-packages\\\\~yarrow\\\\arrow.dll'\n",
      "Consider using the `--user` option or check the permissions.\n",
      "\n"
     ]
    }
   ],
   "source": [
    "!pip install neuralforecast"
   ]
  },
  {
   "cell_type": "code",
   "execution_count": 1,
   "id": "77baa3ad",
   "metadata": {},
   "outputs": [
    {
     "ename": "ModuleNotFoundError",
     "evalue": "No module named 'nixtlats'",
     "output_type": "error",
     "traceback": [
      "\u001b[1;31m---------------------------------------------------------------------------\u001b[0m",
      "\u001b[1;31mModuleNotFoundError\u001b[0m                       Traceback (most recent call last)",
      "Cell \u001b[1;32mIn[1], line 11\u001b[0m\n\u001b[0;32m      7\u001b[0m \u001b[38;5;28;01mfrom\u001b[39;00m \u001b[38;5;21;01mneuralforecast\u001b[39;00m\u001b[38;5;21;01m.\u001b[39;00m\u001b[38;5;21;01mmodels\u001b[39;00m \u001b[38;5;28;01mimport\u001b[39;00m NHITS, NBEATS, PatchTST\n\u001b[0;32m      9\u001b[0m \u001b[38;5;28;01mfrom\u001b[39;00m \u001b[38;5;21;01mneuralforecast\u001b[39;00m\u001b[38;5;21;01m.\u001b[39;00m\u001b[38;5;21;01mlosses\u001b[39;00m\u001b[38;5;21;01m.\u001b[39;00m\u001b[38;5;21;01mnumpy\u001b[39;00m \u001b[38;5;28;01mimport\u001b[39;00m mae, mse\n\u001b[1;32m---> 11\u001b[0m \u001b[38;5;28;01mfrom\u001b[39;00m \u001b[38;5;21;01mnixtlats\u001b[39;00m \u001b[38;5;28;01mimport\u001b[39;00m TimeGPT\n\u001b[0;32m     13\u001b[0m get_ipython()\u001b[38;5;241m.\u001b[39mrun_line_magic(\u001b[38;5;124m'\u001b[39m\u001b[38;5;124mmatplotlib\u001b[39m\u001b[38;5;124m'\u001b[39m, \u001b[38;5;124m'\u001b[39m\u001b[38;5;124minline\u001b[39m\u001b[38;5;124m'\u001b[39m)\n",
      "\u001b[1;31mModuleNotFoundError\u001b[0m: No module named 'nixtlats'"
     ]
    }
   ],
   "source": [
    "import pandas as pd\n",
    "import numpy as np\n",
    "import datetime\n",
    "import matplotlib.pyplot as plt\n",
    "\n",
    "from neuralforecast.core import NeuralForecast\n",
    "from neuralforecast.models import NHITS, NBEATS, PatchTST\n",
    "\n",
    "from neuralforecast.losses.numpy import mae, mse\n",
    "\n",
    "from nixtlats import TimeGPT\n",
    "\n",
    "%matplotlib inline"
   ]
  },
  {
   "cell_type": "code",
   "execution_count": null,
   "id": "05262755",
   "metadata": {},
   "outputs": [],
   "source": []
  }
 ],
 "metadata": {
  "kernelspec": {
   "display_name": "zelta_timegpt",
   "language": "python",
   "name": "myenv"
  },
  "language_info": {
   "codemirror_mode": {
    "name": "ipython",
    "version": 3
   },
   "file_extension": ".py",
   "mimetype": "text/x-python",
   "name": "python",
   "nbconvert_exporter": "python",
   "pygments_lexer": "ipython3",
   "version": "3.10.11"
  }
 },
 "nbformat": 4,
 "nbformat_minor": 5
}
